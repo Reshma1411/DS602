{
 "cells": [
  {
   "cell_type": "markdown",
   "id": "4a8bd498",
   "metadata": {},
   "source": [
    "# Week8 - Homework KNN-NB-SVM\n",
    "\n",
    "- Use GridSearchCV on X_train dataset\n",
    "    - KNN, NB, SVM, Logistic Regression, Decision Trees\n",
    "- Test on X_test dataset"
   ]
  },
  {
   "cell_type": "code",
   "execution_count": 1,
   "id": "ffd31a2d",
   "metadata": {},
   "outputs": [],
   "source": [
    "import numpy as np\n",
    "import matplotlib.pyplot as plt\n",
    "import pandas as pd\n",
    "from sklearn.model_selection import train_test_split\n",
    "from sklearn.preprocessing import StandardScaler\n",
    "from sklearn.linear_model import LogisticRegression\n",
    "from sklearn.pipeline import Pipeline\n",
    "from sklearn.svm import SVC\n",
    "from sklearn.neighbors import KNeighborsClassifier\n",
    "from sklearn.naive_bayes import MultinomialNB\n",
    "from sklearn.model_selection import GridSearchCV\n",
    "from sklearn.tree import DecisionTreeClassifier"
   ]
  },
  {
   "cell_type": "code",
   "execution_count": 2,
   "id": "e5f84b41",
   "metadata": {},
   "outputs": [],
   "source": [
    "X_train = pd.read_csv('https://github.com/msaricaumbc/DS_data/raw/master/ds602/movie/X_train.csv')\n",
    "y_train = pd.read_csv('https://github.com/msaricaumbc/DS_data/raw/master/ds602/movie/y_train.csv')"
   ]
  },
  {
   "cell_type": "code",
   "execution_count": 3,
   "id": "80eeb8a0",
   "metadata": {},
   "outputs": [
    {
     "name": "stdout",
     "output_type": "stream",
     "text": [
      "                                              review\n",
      "0  Shame, is a Swedish film in Swedish with Engli...\n",
      "1  I know it's rather unfair to comment on a movi...\n",
      "2  \"Bread\" very sharply skewers the conventions o...\n",
      "3  After reading tons of good reviews about this ...\n",
      "4  During the Civil war a wounded union soldier h...\n"
     ]
    }
   ],
   "source": [
    "print(X_train.head())"
   ]
  },
  {
   "cell_type": "code",
   "execution_count": 4,
   "id": "88c66d84",
   "metadata": {},
   "outputs": [
    {
     "name": "stdout",
     "output_type": "stream",
     "text": [
      "X_train: (40000, 1)\n",
      "y_train: (40000, 1)\n"
     ]
    }
   ],
   "source": [
    "print(\"X_train:\", X_train.shape)\n",
    "print(\"y_train:\", y_train.shape)\n"
   ]
  },
  {
   "cell_type": "code",
   "execution_count": 5,
   "id": "d2f7134d",
   "metadata": {},
   "outputs": [
    {
     "name": "stdout",
     "output_type": "stream",
     "text": [
      "   sentiment\n",
      "0          1\n",
      "1          0\n",
      "2          1\n",
      "3          1\n",
      "4          1\n"
     ]
    }
   ],
   "source": [
    "print(y_train.head())"
   ]
  },
  {
   "cell_type": "code",
   "execution_count": 6,
   "id": "05c8cba2",
   "metadata": {},
   "outputs": [
    {
     "name": "stdout",
     "output_type": "stream",
     "text": [
      "(40000, 1)\n"
     ]
    }
   ],
   "source": [
    "print(y_train.shape)"
   ]
  },
  {
   "cell_type": "code",
   "execution_count": 7,
   "id": "6d1b1fc5",
   "metadata": {},
   "outputs": [],
   "source": [
    "X_test = pd.read_csv('https://github.com/msaricaumbc/DS_data/raw/master/ds602/movie/X_final.csv')\n",
    "y_test = pd.read_csv('https://github.com/msaricaumbc/DS_data/raw/master/ds602/movie/y_final.csv')"
   ]
  },
  {
   "cell_type": "code",
   "execution_count": 8,
   "id": "ddda8d50",
   "metadata": {},
   "outputs": [
    {
     "name": "stdout",
     "output_type": "stream",
     "text": [
      "X_test: (10000, 1)\n",
      "y_test: (10000, 1)\n"
     ]
    }
   ],
   "source": [
    "print(\"X_test:\", X_test.shape)\n",
    "print(\"y_test:\", y_test.shape)"
   ]
  },
  {
   "cell_type": "code",
   "execution_count": 9,
   "id": "5cd0a008",
   "metadata": {},
   "outputs": [
    {
     "data": {
      "text/html": [
       "<div>\n",
       "<style scoped>\n",
       "    .dataframe tbody tr th:only-of-type {\n",
       "        vertical-align: middle;\n",
       "    }\n",
       "\n",
       "    .dataframe tbody tr th {\n",
       "        vertical-align: top;\n",
       "    }\n",
       "\n",
       "    .dataframe thead th {\n",
       "        text-align: right;\n",
       "    }\n",
       "</style>\n",
       "<table border=\"1\" class=\"dataframe\">\n",
       "  <thead>\n",
       "    <tr style=\"text-align: right;\">\n",
       "      <th></th>\n",
       "      <th>review</th>\n",
       "    </tr>\n",
       "  </thead>\n",
       "  <tbody>\n",
       "    <tr>\n",
       "      <th>0</th>\n",
       "      <td>Shame, is a Swedish film in Swedish with Engli...</td>\n",
       "    </tr>\n",
       "    <tr>\n",
       "      <th>1</th>\n",
       "      <td>I know it's rather unfair to comment on a movi...</td>\n",
       "    </tr>\n",
       "    <tr>\n",
       "      <th>2</th>\n",
       "      <td>\"Bread\" very sharply skewers the conventions o...</td>\n",
       "    </tr>\n",
       "    <tr>\n",
       "      <th>3</th>\n",
       "      <td>After reading tons of good reviews about this ...</td>\n",
       "    </tr>\n",
       "    <tr>\n",
       "      <th>4</th>\n",
       "      <td>During the Civil war a wounded union soldier h...</td>\n",
       "    </tr>\n",
       "  </tbody>\n",
       "</table>\n",
       "</div>"
      ],
      "text/plain": [
       "                                              review\n",
       "0  Shame, is a Swedish film in Swedish with Engli...\n",
       "1  I know it's rather unfair to comment on a movi...\n",
       "2  \"Bread\" very sharply skewers the conventions o...\n",
       "3  After reading tons of good reviews about this ...\n",
       "4  During the Civil war a wounded union soldier h..."
      ]
     },
     "execution_count": 9,
     "metadata": {},
     "output_type": "execute_result"
    }
   ],
   "source": [
    "X_train.head()"
   ]
  },
  {
   "cell_type": "code",
   "execution_count": 10,
   "id": "3ec4f2f9",
   "metadata": {},
   "outputs": [
    {
     "data": {
      "text/html": [
       "<div>\n",
       "<style scoped>\n",
       "    .dataframe tbody tr th:only-of-type {\n",
       "        vertical-align: middle;\n",
       "    }\n",
       "\n",
       "    .dataframe tbody tr th {\n",
       "        vertical-align: top;\n",
       "    }\n",
       "\n",
       "    .dataframe thead th {\n",
       "        text-align: right;\n",
       "    }\n",
       "</style>\n",
       "<table border=\"1\" class=\"dataframe\">\n",
       "  <thead>\n",
       "    <tr style=\"text-align: right;\">\n",
       "      <th></th>\n",
       "      <th>sentiment</th>\n",
       "    </tr>\n",
       "  </thead>\n",
       "  <tbody>\n",
       "    <tr>\n",
       "      <th>0</th>\n",
       "      <td>1</td>\n",
       "    </tr>\n",
       "    <tr>\n",
       "      <th>1</th>\n",
       "      <td>0</td>\n",
       "    </tr>\n",
       "    <tr>\n",
       "      <th>2</th>\n",
       "      <td>1</td>\n",
       "    </tr>\n",
       "    <tr>\n",
       "      <th>3</th>\n",
       "      <td>1</td>\n",
       "    </tr>\n",
       "    <tr>\n",
       "      <th>4</th>\n",
       "      <td>1</td>\n",
       "    </tr>\n",
       "  </tbody>\n",
       "</table>\n",
       "</div>"
      ],
      "text/plain": [
       "   sentiment\n",
       "0          1\n",
       "1          0\n",
       "2          1\n",
       "3          1\n",
       "4          1"
      ]
     },
     "execution_count": 10,
     "metadata": {},
     "output_type": "execute_result"
    }
   ],
   "source": [
    "y_train.head()"
   ]
  },
  {
   "cell_type": "code",
   "execution_count": 11,
   "id": "df6b55b8",
   "metadata": {},
   "outputs": [
    {
     "data": {
      "image/png": "[encoded data removed]",
      "text/plain": [
       "<Figure size 432x288 with 1 Axes>"
      ]
     },
     "metadata": {
      "needs_background": "light"
     },
     "output_type": "display_data"
    }
   ],
   "source": [
    "import matplotlib.pyplot as plt\n",
    "plt.hist(y_train)\n",
    "plt.show()\n"
   ]
  },
  {
   "cell_type": "code",
   "execution_count": 12,
   "id": "e6ef66cc",
   "metadata": {},
   "outputs": [],
   "source": [
    "X_train_subset = X_train[:500]"
   ]
  },
  {
   "cell_type": "code",
   "execution_count": 13,
   "id": "1621a73c",
   "metadata": {},
   "outputs": [],
   "source": [
    "y_train_subset = y_train[:500]"
   ]
  },
  {
   "cell_type": "code",
   "execution_count": 14,
   "id": "5de207a8",
   "metadata": {},
   "outputs": [],
   "source": [
    "X_test_subset = X_train[:500]"
   ]
  },
  {
   "cell_type": "code",
   "execution_count": 15,
   "id": "55e63630",
   "metadata": {},
   "outputs": [],
   "source": [
    "y_test_subset = y_train[:500]"
   ]
  },
  {
   "cell_type": "code",
   "execution_count": 16,
   "id": "8b0d0237",
   "metadata": {},
   "outputs": [],
   "source": [
    "X_train_subset_train, X_train_subset_test, y_train_subset_train, y_train_subset_test = train_test_split(X_train_subset, y_train_subset, test_size=0.2, random_state=45)"
   ]
  },
  {
   "cell_type": "code",
   "execution_count": 17,
   "id": "b700f4f0",
   "metadata": {},
   "outputs": [
    {
     "data": {
      "text/html": [
       "<div>\n",
       "<style scoped>\n",
       "    .dataframe tbody tr th:only-of-type {\n",
       "        vertical-align: middle;\n",
       "    }\n",
       "\n",
       "    .dataframe tbody tr th {\n",
       "        vertical-align: top;\n",
       "    }\n",
       "\n",
       "    .dataframe thead th {\n",
       "        text-align: right;\n",
       "    }\n",
       "</style>\n",
       "<table border=\"1\" class=\"dataframe\">\n",
       "  <thead>\n",
       "    <tr style=\"text-align: right;\">\n",
       "      <th></th>\n",
       "      <th>review</th>\n",
       "    </tr>\n",
       "  </thead>\n",
       "  <tbody>\n",
       "    <tr>\n",
       "      <th>484</th>\n",
       "      <td>I guess Melville intended this movie to be the...</td>\n",
       "    </tr>\n",
       "    <tr>\n",
       "      <th>166</th>\n",
       "      <td>You want the worst horror movie of the 21st ce...</td>\n",
       "    </tr>\n",
       "    <tr>\n",
       "      <th>455</th>\n",
       "      <td>It's amazing that actress P.J. Soles didn't be...</td>\n",
       "    </tr>\n",
       "    <tr>\n",
       "      <th>63</th>\n",
       "      <td>Olivier, Kosentsev, Richardson, Coranado, Zeff...</td>\n",
       "    </tr>\n",
       "    <tr>\n",
       "      <th>180</th>\n",
       "      <td>This is 30 minute show about one joke. The jok...</td>\n",
       "    </tr>\n",
       "    <tr>\n",
       "      <th>...</th>\n",
       "      <td>...</td>\n",
       "    </tr>\n",
       "    <tr>\n",
       "      <th>32</th>\n",
       "      <td>This is a film about 17th Century Italian arti...</td>\n",
       "    </tr>\n",
       "    <tr>\n",
       "      <th>380</th>\n",
       "      <td>Vadim changed Brigitte's image and way of life...</td>\n",
       "    </tr>\n",
       "    <tr>\n",
       "      <th>131</th>\n",
       "      <td>What an absolutely stunning movie, if you have...</td>\n",
       "    </tr>\n",
       "    <tr>\n",
       "      <th>414</th>\n",
       "      <td>A somewhat fictionalized biographical portrait...</td>\n",
       "    </tr>\n",
       "    <tr>\n",
       "      <th>459</th>\n",
       "      <td>Easily one of the ten best movies of the 20th ...</td>\n",
       "    </tr>\n",
       "  </tbody>\n",
       "</table>\n",
       "<p>400 rows × 1 columns</p>\n",
       "</div>"
      ],
      "text/plain": [
       "                                                review\n",
       "484  I guess Melville intended this movie to be the...\n",
       "166  You want the worst horror movie of the 21st ce...\n",
       "455  It's amazing that actress P.J. Soles didn't be...\n",
       "63   Olivier, Kosentsev, Richardson, Coranado, Zeff...\n",
       "180  This is 30 minute show about one joke. The jok...\n",
       "..                                                 ...\n",
       "32   This is a film about 17th Century Italian arti...\n",
       "380  Vadim changed Brigitte's image and way of life...\n",
       "131  What an absolutely stunning movie, if you have...\n",
       "414  A somewhat fictionalized biographical portrait...\n",
       "459  Easily one of the ten best movies of the 20th ...\n",
       "\n",
       "[400 rows x 1 columns]"
      ]
     },
     "execution_count": 17,
     "metadata": {},
     "output_type": "execute_result"
    }
   ],
   "source": [
    "X_train_subset_train"
   ]
  },
  {
   "cell_type": "code",
   "execution_count": 18,
   "id": "98984a4e",
   "metadata": {},
   "outputs": [],
   "source": [
    "from sklearn.feature_extraction.text import CountVectorizer\n",
    "\n",
    "def model_pipe(model, vectorizer, scale=False):\n",
    "    from sklearn.pipeline import Pipeline\n",
    "\n",
    "    pipeline= Pipeline([('vectorizer', vectorizer), ('model', model)])\n",
    "    return pipeline\n",
    "\n",
    "max_features_limit = 10000\n",
    "stop_words_language = 'english'\n",
    "vectorizer = CountVectorizer(max_features=max_features_limit, stop_words=stop_words_language)"
   ]
  },
  {
   "cell_type": "markdown",
   "id": "dbca54ab",
   "metadata": {},
   "source": [
    "                        KNN"
   ]
  },
  {
   "cell_type": "code",
   "execution_count": 19,
   "id": "adf35b81",
   "metadata": {},
   "outputs": [],
   "source": [
    "from sklearn.feature_extraction.text import CountVectorizer\n",
    "from sklearn.neighbors import KNeighborsClassifier\n",
    "from sklearn.model_selection import GridSearchCV\n",
    "from sklearn.metrics import ConfusionMatrixDisplay\n",
    "\n",
    "param_grid = [{\n",
    "               'model__n_neighbors': [1, 4, 8, 10, 15],\n",
    "               'model__weights': ['uniform','distance'],\n",
    "               'vectorizer__ngram_range': [(1,1), (1,2)],\n",
    "               'vectorizer__min_df': [0.05, 0.10]}\n",
    " ]\n",
    "\n",
    "pipeline = model_pipe(KNeighborsClassifier(), vectorizer)"
   ]
  },
  {
   "cell_type": "code",
   "execution_count": 20,
   "id": "1ceae232",
   "metadata": {},
   "outputs": [],
   "source": [
    "knn_results = GridSearchCV(estimator=pipeline, param_grid=param_grid, scoring='accuracy', refit=True, cv=5)\n",
    "knn_results = knn_results.fit(X_train_subset_train['review'], y_train_subset_train.values.ravel())"
   ]
  },
  {
   "cell_type": "code",
   "execution_count": 21,
   "id": "2e9969d2",
   "metadata": {},
   "outputs": [
    {
     "data": {
      "image/png": "[encoded data removed]",
      "text/plain": [
       "<Figure size 432x288 with 2 Axes>"
      ]
     },
     "metadata": {
      "needs_background": "light"
     },
     "output_type": "display_data"
    }
   ],
   "source": [
    "ConfusionMatrixDisplay.from_estimator(knn_results, X_train_subset_test['review'], y_train_subset_test.values.ravel())\n",
    "plt.show()"
   ]
  },
  {
   "cell_type": "code",
   "execution_count": 22,
   "id": "07b190cf",
   "metadata": {},
   "outputs": [
    {
     "data": {
      "text/plain": [
       "{'model__n_neighbors': 10,\n",
       " 'model__weights': 'distance',\n",
       " 'vectorizer__min_df': 0.1,\n",
       " 'vectorizer__ngram_range': (1, 1)}"
      ]
     },
     "execution_count": 22,
     "metadata": {},
     "output_type": "execute_result"
    }
   ],
   "source": [
    "knn_results.best_params_"
   ]
  },
  {
   "cell_type": "code",
   "execution_count": 23,
   "id": "b9326738",
   "metadata": {},
   "outputs": [
    {
     "data": {
      "text/plain": [
       "1.0"
      ]
     },
     "execution_count": 23,
     "metadata": {},
     "output_type": "execute_result"
    }
   ],
   "source": [
    " knn_results.score(X_train_subset_train['review'], y_train_subset_train.values.ravel())"
   ]
  },
  {
   "cell_type": "markdown",
   "id": "a0bd22ae",
   "metadata": {},
   "source": [
    "1.0 for training"
   ]
  },
  {
   "cell_type": "code",
   "execution_count": 24,
   "id": "f33e72ec",
   "metadata": {},
   "outputs": [
    {
     "data": {
      "text/plain": [
       "0.41"
      ]
     },
     "execution_count": 24,
     "metadata": {},
     "output_type": "execute_result"
    }
   ],
   "source": [
    "knn_results.score(X_train_subset_test['review'], y_train_subset_test.values.ravel())"
   ]
  },
  {
   "cell_type": "markdown",
   "id": "1155aafd",
   "metadata": {},
   "source": [
    "0.41 for testing"
   ]
  },
  {
   "cell_type": "markdown",
   "id": "8cc149d9",
   "metadata": {},
   "source": [
    "                 NB"
   ]
  },
  {
   "cell_type": "code",
   "execution_count": 25,
   "id": "48b3f712",
   "metadata": {},
   "outputs": [],
   "source": [
    "from sklearn.feature_extraction.text import CountVectorizer\n",
    "from sklearn.naive_bayes import BernoulliNB\n",
    "from sklearn.model_selection import GridSearchCV\n",
    "from sklearn.metrics import ConfusionMatrixDisplay\n",
    "\n",
    "param_grid = [{'vectorizer__ngram_range': [(1,1), (1,2)],\n",
    "               'vectorizer__min_df': [0.01,0.05,]}\n",
    " ]\n",
    "\n",
    "pipeline = model_pipe(BernoulliNB(), vectorizer)"
   ]
  },
  {
   "cell_type": "code",
   "execution_count": 26,
   "id": "0afae358",
   "metadata": {},
   "outputs": [],
   "source": [
    "nb_results = GridSearchCV(estimator=pipeline, param_grid=param_grid, scoring='accuracy', refit=True, cv=5)\n",
    "nb_results = nb_results.fit(X_train_subset_train['review'], y_train_subset_train.values.ravel())"
   ]
  },
  {
   "cell_type": "code",
   "execution_count": 27,
   "id": "b2a13db3",
   "metadata": {},
   "outputs": [
    {
     "data": {
      "image/png": "[encoded data removed]",
      "text/plain": [
       "<Figure size 432x288 with 2 Axes>"
      ]
     },
     "metadata": {
      "needs_background": "light"
     },
     "output_type": "display_data"
    }
   ],
   "source": [
    "ConfusionMatrixDisplay.from_estimator(nb_results, X_train_subset_test['review'], y_train_subset_test.values.ravel())\n",
    "plt.show()"
   ]
  },
  {
   "cell_type": "code",
   "execution_count": 28,
   "id": "5384bb90",
   "metadata": {},
   "outputs": [
    {
     "data": {
      "text/plain": [
       "{'vectorizer__min_df': 0.01, 'vectorizer__ngram_range': (1, 2)}"
      ]
     },
     "execution_count": 28,
     "metadata": {},
     "output_type": "execute_result"
    }
   ],
   "source": [
    "nb_results.best_params_"
   ]
  },
  {
   "cell_type": "code",
   "execution_count": 29,
   "id": "0f4c273f",
   "metadata": {},
   "outputs": [
    {
     "data": {
      "text/plain": [
       "0.9825"
      ]
     },
     "execution_count": 29,
     "metadata": {},
     "output_type": "execute_result"
    }
   ],
   "source": [
    "nb_results.score(X_train_subset_train['review'], y_train_subset_train.values.ravel())"
   ]
  },
  {
   "cell_type": "markdown",
   "id": "bbca1200",
   "metadata": {},
   "source": [
    "0.9825 for training"
   ]
  },
  {
   "cell_type": "code",
   "execution_count": 30,
   "id": "38472cae",
   "metadata": {},
   "outputs": [
    {
     "data": {
      "text/plain": [
       "0.83"
      ]
     },
     "execution_count": 30,
     "metadata": {},
     "output_type": "execute_result"
    }
   ],
   "source": [
    "nb_results.score(X_train_subset_test['review'], y_train_subset_test.values.ravel())"
   ]
  },
  {
   "cell_type": "markdown",
   "id": "825f6ae4",
   "metadata": {},
   "source": [
    "0.8325 for testing"
   ]
  },
  {
   "cell_type": "markdown",
   "id": "39cb7e57",
   "metadata": {},
   "source": [
    "                             SVM"
   ]
  },
  {
   "cell_type": "code",
   "execution_count": 31,
   "id": "32124a69",
   "metadata": {},
   "outputs": [],
   "source": [
    "from sklearn.feature_extraction.text import CountVectorizer\n",
    "from sklearn.svm import SVC\n",
    "from sklearn.model_selection import GridSearchCV\n",
    "from sklearn.metrics import ConfusionMatrixDisplay\n",
    "\n",
    "param_grid = [{'vectorizer__ngram_range': [(1,1), (1,2)],\n",
    "               'vectorizer__min_df': [0.02, 0.05],\n",
    "               'model__C': [0.1, 1, 5],\n",
    "               'model__kernel': ['linear', 'rbf'],\n",
    "               'model__class_weight': [None, 'balanced']}\n",
    " ]\n",
    "\n",
    "pipeline= model_pipe(SVC(), vectorizer)"
   ]
  },
  {
   "cell_type": "code",
   "execution_count": 32,
   "id": "9b85dfa4",
   "metadata": {},
   "outputs": [],
   "source": [
    "svm_results = GridSearchCV(estimator=pipeline, param_grid=param_grid, scoring='accuracy', refit=True, cv=5)\n",
    "svm_results = svm_results.fit(X_train_subset_train['review'], y_train_subset_train.values.ravel())"
   ]
  },
  {
   "cell_type": "code",
   "execution_count": 33,
   "id": "439b2a76",
   "metadata": {},
   "outputs": [
    {
     "data": {
      "image/png": "[encoded data removed]",
      "text/plain": [
       "<Figure size 432x288 with 2 Axes>"
      ]
     },
     "metadata": {
      "needs_background": "light"
     },
     "output_type": "display_data"
    }
   ],
   "source": [
    "ConfusionMatrixDisplay.from_estimator(svm_results, X_train_subset_test['review'], y_train_subset_test.values.ravel())\n",
    "plt.show()"
   ]
  },
  {
   "cell_type": "code",
   "execution_count": 34,
   "id": "4faa6469",
   "metadata": {},
   "outputs": [
    {
     "data": {
      "text/plain": [
       "{'model__C': 5,\n",
       " 'model__class_weight': None,\n",
       " 'model__kernel': 'rbf',\n",
       " 'vectorizer__min_df': 0.02,\n",
       " 'vectorizer__ngram_range': (1, 1)}"
      ]
     },
     "execution_count": 34,
     "metadata": {},
     "output_type": "execute_result"
    }
   ],
   "source": [
    "svm_results.best_params_"
   ]
  },
  {
   "cell_type": "code",
   "execution_count": 35,
   "id": "2ec15d19",
   "metadata": {},
   "outputs": [
    {
     "data": {
      "text/plain": [
       "1.0"
      ]
     },
     "execution_count": 35,
     "metadata": {},
     "output_type": "execute_result"
    }
   ],
   "source": [
    "svm_results.score(X_train_subset_train['review'], y_train_subset_train.values.ravel())"
   ]
  },
  {
   "cell_type": "markdown",
   "id": "512532a5",
   "metadata": {},
   "source": [
    "1.0 for training"
   ]
  },
  {
   "cell_type": "code",
   "execution_count": 37,
   "id": "f6d4f924",
   "metadata": {},
   "outputs": [
    {
     "data": {
      "text/plain": [
       "0.68"
      ]
     },
     "execution_count": 37,
     "metadata": {},
     "output_type": "execute_result"
    }
   ],
   "source": [
    "svm_results.score(X_train_subset_test['review'], y_train_subset_test.values.ravel())"
   ]
  },
  {
   "cell_type": "markdown",
   "id": "3642369b",
   "metadata": {},
   "source": [
    "0.68 for testing"
   ]
  },
  {
   "cell_type": "markdown",
   "id": "ab27fe0b",
   "metadata": {},
   "source": [
    "                    LR"
   ]
  },
  {
   "cell_type": "code",
   "execution_count": 42,
   "id": "c580fb32",
   "metadata": {},
   "outputs": [
    {
     "data": {
      "image/png": "[encoded data removed]",
      "text/plain": [
       "<Figure size 432x288 with 2 Axes>"
      ]
     },
     "metadata": {
      "needs_background": "light"
     },
     "output_type": "display_data"
    }
   ],
   "source": [
    "param_grid = [{'vectorizer__ngram_range': [(1,1), (1,2)],\n",
    "               'vectorizer__min_df': [0.02, 0.05],\n",
    "               'model__C': [0.1, 1, 5],\n",
    "               'model__class_weight': [None, 'balanced']}\n",
    " ]\n",
    "\n",
    "pipeline = model_pipe(LogisticRegression(solver='liblinear'), vectorizer)\n",
    "\n",
    "lr_results = GridSearchCV(estimator=pipeline, param_grid=param_grid, scoring='accuracy', refit=True, cv=5)\n",
    "lr_results = lr_results.fit(X_train_subset_train['review'], y_train_subset_train.values.ravel())\n",
    "\n",
    "ConfusionMatrixDisplay.from_estimator(lr_results, X_train_subset_test['review'], y_train_subset_test.values.ravel())\n",
    "plt.show()"
   ]
  },
  {
   "cell_type": "code",
   "execution_count": 43,
   "id": "cbcdc7a9",
   "metadata": {},
   "outputs": [
    {
     "data": {
      "text/plain": [
       "{'model__C': 5,\n",
       " 'model__class_weight': None,\n",
       " 'vectorizer__min_df': 0.02,\n",
       " 'vectorizer__ngram_range': (1, 1)}"
      ]
     },
     "execution_count": 43,
     "metadata": {},
     "output_type": "execute_result"
    }
   ],
   "source": [
    "lr_results.best_params_"
   ]
  },
  {
   "cell_type": "code",
   "execution_count": 44,
   "id": "339a0740",
   "metadata": {},
   "outputs": [
    {
     "data": {
      "text/plain": [
       "1.0"
      ]
     },
     "execution_count": 44,
     "metadata": {},
     "output_type": "execute_result"
    }
   ],
   "source": [
    "lr_results.score(X_train_subset_train['review'], y_train_subset_train.values.ravel())"
   ]
  },
  {
   "cell_type": "markdown",
   "id": "6c777017",
   "metadata": {},
   "source": [
    "1.0 for training"
   ]
  },
  {
   "cell_type": "code",
   "execution_count": 46,
   "id": "01d6db66",
   "metadata": {},
   "outputs": [
    {
     "data": {
      "text/plain": [
       "0.68"
      ]
     },
     "execution_count": 46,
     "metadata": {},
     "output_type": "execute_result"
    }
   ],
   "source": [
    "lr_results.score(X_train_subset_test['review'], y_train_subset_test.values.ravel())"
   ]
  },
  {
   "cell_type": "markdown",
   "id": "d2a9b574",
   "metadata": {},
   "source": [
    "0.68 for testing"
   ]
  },
  {
   "cell_type": "markdown",
   "id": "e0adfec2",
   "metadata": {},
   "source": [
    "                           DT"
   ]
  },
  {
   "cell_type": "code",
   "execution_count": 47,
   "id": "ef0bf585",
   "metadata": {},
   "outputs": [],
   "source": [
    "param_grid = [{\n",
    "    'vectorizer__ngram_range': [(1, 1), (1, 2)],\n",
    "    'vectorizer__min_df': [0.05, 0.10],\n",
    "    'model__max_depth': [None, 10, 20, 30],\n",
    "    'model__min_samples_split': [2, 5, 10],\n",
    "    'model__min_samples_leaf': [1, 2, 4],\n",
    "    'model__class_weight': [None, 'balanced']\n",
    "}]\n",
    "\n",
    "\n",
    "pipeline= model_pipe(DecisionTreeClassifier(), vectorizer)"
   ]
  },
  {
   "cell_type": "code",
   "execution_count": 49,
   "id": "8d4326b1",
   "metadata": {},
   "outputs": [],
   "source": [
    "dt_results = GridSearchCV(estimator=pipeline, param_grid=param_grid, scoring='accuracy', refit=True, cv=5)\n",
    "dt_results = dt_results.fit(X_train_subset_train['review'], y_train_subset_train.values.ravel())\n"
   ]
  },
  {
   "cell_type": "code",
   "execution_count": 50,
   "id": "308e2ebe",
   "metadata": {},
   "outputs": [
    {
     "data": {
      "image/png": "[encoded data removed]",
      "text/plain": [
       "<Figure size 432x288 with 2 Axes>"
      ]
     },
     "metadata": {
      "needs_background": "light"
     },
     "output_type": "display_data"
    }
   ],
   "source": [
    "ConfusionMatrixDisplay.from_estimator(dt_results, X_train_subset_test['review'], y_train_subset_test.values.ravel())\n",
    "plt.show()"
   ]
  },
  {
   "cell_type": "code",
   "execution_count": 51,
   "id": "a602cf14",
   "metadata": {},
   "outputs": [
    {
     "data": {
      "text/plain": [
       "{'model__class_weight': None,\n",
       " 'model__max_depth': 20,\n",
       " 'model__min_samples_leaf': 1,\n",
       " 'model__min_samples_split': 2,\n",
       " 'vectorizer__min_df': 0.05,\n",
       " 'vectorizer__ngram_range': (1, 2)}"
      ]
     },
     "execution_count": 51,
     "metadata": {},
     "output_type": "execute_result"
    }
   ],
   "source": [
    "dt_results.best_params_"
   ]
  },
  {
   "cell_type": "code",
   "execution_count": 52,
   "id": "ef367896",
   "metadata": {},
   "outputs": [
    {
     "data": {
      "text/plain": [
       "0.9875"
      ]
     },
     "execution_count": 52,
     "metadata": {},
     "output_type": "execute_result"
    }
   ],
   "source": [
    "dt_results.score(X_train_subset_train['review'], y_train_subset_train.values.ravel())"
   ]
  },
  {
   "cell_type": "markdown",
   "id": "15c0c01a",
   "metadata": {},
   "source": [
    "0.9875 for training"
   ]
  },
  {
   "cell_type": "code",
   "execution_count": 53,
   "id": "8b4a4e0e",
   "metadata": {},
   "outputs": [
    {
     "data": {
      "text/plain": [
       "0.55"
      ]
     },
     "execution_count": 53,
     "metadata": {},
     "output_type": "execute_result"
    }
   ],
   "source": [
    "dt_results.score(X_train_subset_test['review'], y_train_subset_test.values.ravel())"
   ]
  },
  {
   "cell_type": "markdown",
   "id": "20a92467",
   "metadata": {},
   "source": [
    "0.55 for testing"
   ]
  },
  {
   "cell_type": "markdown",
   "id": "3fb0e5f3",
   "metadata": {},
   "source": [
    "based on the scores it seems like Naive Bayes  performed well on provided subset so i would choose this for further execution"
   ]
  },
  {
   "cell_type": "code",
   "execution_count": 61,
   "id": "dc7423c7",
   "metadata": {},
   "outputs": [],
   "source": [
    "best_model_pipeline = Pipeline([\n",
    "    ('vectorizer', CountVectorizer(min_df=0.01, ngram_range=(1, 2))),\n",
    "    ('model', BernoulliNB())\n",
    "])\n"
   ]
  },
  {
   "cell_type": "code",
   "execution_count": 62,
   "id": "bf5ce96e",
   "metadata": {},
   "outputs": [],
   "source": [
    "best_model= best_model_pipeline.fit(X_train_subset['review'], y_train_subset.values.ravel())"
   ]
  },
  {
   "cell_type": "code",
   "execution_count": 63,
   "id": "623d92d3",
   "metadata": {},
   "outputs": [
    {
     "data": {
      "image/png": "[encoded data removed]",
      "text/plain": [
       "<Figure size 432x288 with 2 Axes>"
      ]
     },
     "metadata": {
      "needs_background": "light"
     },
     "output_type": "display_data"
    }
   ],
   "source": [
    "ConfusionMatrixDisplay.from_estimator(best_model, X_test_subset['review'], y_test_subset.values.ravel())\n",
    "plt.show()"
   ]
  },
  {
   "cell_type": "code",
   "execution_count": 64,
   "id": "0459b6c4",
   "metadata": {},
   "outputs": [
    {
     "data": {
      "text/plain": [
       "0.80725"
      ]
     },
     "execution_count": 64,
     "metadata": {},
     "output_type": "execute_result"
    }
   ],
   "source": [
    "best_model.score(X_train['review'], y_train.values.ravel())"
   ]
  },
  {
   "cell_type": "code",
   "execution_count": 66,
   "id": "3b0f6794",
   "metadata": {},
   "outputs": [
    {
     "data": {
      "text/plain": [
       "0.8069"
      ]
     },
     "execution_count": 66,
     "metadata": {},
     "output_type": "execute_result"
    }
   ],
   "source": [
    "best_model.score(X_test['review'], y_test.values.ravel())"
   ]
  },
  {
   "cell_type": "code",
   "execution_count": 68,
   "id": "c427dd33",
   "metadata": {},
   "outputs": [],
   "source": [
    "from sklearn.metrics import classification_report\n",
    "\n",
    "y_pred = best_model_pipeline.predict(X_test['review'])\n"
   ]
  },
  {
   "cell_type": "code",
   "execution_count": 69,
   "id": "e21d6aaf",
   "metadata": {},
   "outputs": [
    {
     "name": "stdout",
     "output_type": "stream",
     "text": [
      "              precision    recall  f1-score   support\n",
      "\n",
      "           0       0.79      0.84      0.81      5000\n",
      "           1       0.83      0.78      0.80      5000\n",
      "\n",
      "    accuracy                           0.81     10000\n",
      "   macro avg       0.81      0.81      0.81     10000\n",
      "weighted avg       0.81      0.81      0.81     10000\n",
      "\n"
     ]
    }
   ],
   "source": [
    "print(classification_report(y_test.values.ravel(), y_pred))"
   ]
  },
  {
   "cell_type": "code",
   "execution_count": null,
   "id": "d44a3c31",
   "metadata": {},
   "outputs": [],
   "source": []
  }
 ],
 "metadata": {
  "kernelspec": {
   "display_name": "Python 3 (ipykernel)",
   "language": "python",
   "name": "python3"
  },
  "language_info": {
   "codemirror_mode": {
    "name": "ipython",
    "version": 3
   },
   "file_extension": ".py",
   "mimetype": "text/x-python",
   "name": "python",
   "nbconvert_exporter": "python",
   "pygments_lexer": "ipython3",
   "version": "3.9.7"
  },
  "toc": {
   "base_numbering": 1,
   "nav_menu": {},
   "number_sections": false,
   "sideBar": true,
   "skip_h1_title": false,
   "title_cell": "Table of Contents",
   "title_sidebar": "Contents",
   "toc_cell": false,
   "toc_position": {},
   "toc_section_display": true,
   "toc_window_display": true
  }
 },
 "nbformat": 4,
 "nbformat_minor": 5
}
