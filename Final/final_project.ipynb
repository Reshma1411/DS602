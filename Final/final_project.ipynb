{
 "cells": [
  {
   "cell_type": "markdown",
   "metadata": {
    "id": "2SldQPch147s"
   },
   "source": [
    "Final Project"
   ]
  },
  {
   "cell_type": "markdown",
   "metadata": {
    "id": "rtZvmLJ_jctx"
   },
   "source": [
    "This project is structured to encompass various stages, starting with exploratory data analysis (EDA) to gain deep insights into the data. We will preprocess the data, engineer relevant features, and select appropriate machine learning algorithms for binary classification tasks. Importantly, we will adhere to the guidelines of not using labeled data for training, treating it as our subject matter expert’s input."
   ]
  },
  {
   "cell_type": "code",
   "execution_count": 65,
   "metadata": {
    "id": "ryxYvjJI1yTt"
   },
   "outputs": [],
   "source": [
    "import pandas as pd\n",
    "import matplotlib.pyplot as plt\n",
    "import seaborn as sns\n",
    "from sklearn.impute import SimpleImputer\n",
    "from sklearn.cluster import KMeans\n",
    "from sklearn.metrics import silhouette_score\n",
    "from sklearn.model_selection import GridSearchCV\n",
    "from sklearn.linear_model import LogisticRegression\n",
    "from sklearn.ensemble import RandomForestClassifier\n",
    "from sklearn.svm import SVC\n",
    "from sklearn.metrics import accuracy_score\n",
    "from sklearn.metrics import classification_report\n",
    "\n",
    "class SME():\n",
    "\n",
    "    def __init__(self):\n",
    "        self.asked = 0\n",
    "        self.df = self.get()\n",
    "\n",
    "    def get(self):\n",
    "        X_train = pd.read_csv('https://raw.githubusercontent.com/msaricaumbc/DS_data/master/ds602/final3/X_train.csv')\n",
    "        y_train = pd.read_csv('https://raw.githubusercontent.com/msaricaumbc/DS_data/master/ds602/final3/y_train.csv')\n",
    "\n",
    "        X_train['Left'] = y_train\n",
    "        return X_train\n",
    "\n",
    "    def ask(self, gender, distance, years_worked, hire_date, prev_salary, current_salary, dep_code):\n",
    "        self.asked += 1\n",
    "        #  print(self.asked)\n",
    "\n",
    "        if self.asked > 500:\n",
    "            raise Exception(\"Sorry, you have asked enough\")\n",
    "\n",
    "        result = self.df.query(f\"Gender=={gender} and Distance=='{distance}' and YearsWorked == {years_worked} and HireDate == '{hire_date}' and PreviousSalary == '{prev_salary}' and Salary == '{current_salary}' and DepartmentCode == {dep_code}\")\n",
    "\n",
    "        return result['Left'][0]"
   ]
  },
  {
   "cell_type": "code",
   "execution_count": 66,
   "metadata": {
    "id": "GuAdr7Zo11Pj"
   },
   "outputs": [],
   "source": [
    "sme= SME()"
   ]
  },
  {
   "cell_type": "code",
   "execution_count": 67,
   "metadata": {
    "id": "unLTiely12LU"
   },
   "outputs": [],
   "source": [
    "df = sme.get()"
   ]
  },
  {
   "cell_type": "code",
   "execution_count": 68,
   "metadata": {
    "colab": {
     "base_uri": "https://localhost:8080/",
     "height": 206
    },
    "id": "b7T6HEYf12U7",
    "outputId": "ac1451e8-0263-4d8f-8680-57cc2bf4c77e"
   },
   "outputs": [
    {
     "data": {
      "text/html": [
       "<div>\n",
       "<style scoped>\n",
       "    .dataframe tbody tr th:only-of-type {\n",
       "        vertical-align: middle;\n",
       "    }\n",
       "\n",
       "    .dataframe tbody tr th {\n",
       "        vertical-align: top;\n",
       "    }\n",
       "\n",
       "    .dataframe thead th {\n",
       "        text-align: right;\n",
       "    }\n",
       "</style>\n",
       "<table border=\"1\" class=\"dataframe\">\n",
       "  <thead>\n",
       "    <tr style=\"text-align: right;\">\n",
       "      <th></th>\n",
       "      <th>Gender</th>\n",
       "      <th>Distance</th>\n",
       "      <th>YearsWorked</th>\n",
       "      <th>HireDate</th>\n",
       "      <th>PreviousSalary</th>\n",
       "      <th>Salary</th>\n",
       "      <th>DepartmentCode</th>\n",
       "      <th>Left</th>\n",
       "    </tr>\n",
       "  </thead>\n",
       "  <tbody>\n",
       "    <tr>\n",
       "      <th>0</th>\n",
       "      <td>0</td>\n",
       "      <td>~20miles</td>\n",
       "      <td>8</td>\n",
       "      <td>2007-09-05</td>\n",
       "      <td>63K</td>\n",
       "      <td>66K</td>\n",
       "      <td>3</td>\n",
       "      <td>1</td>\n",
       "    </tr>\n",
       "    <tr>\n",
       "      <th>1</th>\n",
       "      <td>0</td>\n",
       "      <td>&gt;30miles</td>\n",
       "      <td>7</td>\n",
       "      <td>2011-10-16</td>\n",
       "      <td>60K</td>\n",
       "      <td>63K</td>\n",
       "      <td>3</td>\n",
       "      <td>1</td>\n",
       "    </tr>\n",
       "    <tr>\n",
       "      <th>2</th>\n",
       "      <td>0</td>\n",
       "      <td>~15miles</td>\n",
       "      <td>7</td>\n",
       "      <td>2011-05-18</td>\n",
       "      <td>59K</td>\n",
       "      <td>60K</td>\n",
       "      <td>3</td>\n",
       "      <td>0</td>\n",
       "    </tr>\n",
       "    <tr>\n",
       "      <th>3</th>\n",
       "      <td>1</td>\n",
       "      <td>&lt;5mile</td>\n",
       "      <td>3</td>\n",
       "      <td>2000-06-30</td>\n",
       "      <td>60K</td>\n",
       "      <td>61K</td>\n",
       "      <td>2</td>\n",
       "      <td>0</td>\n",
       "    </tr>\n",
       "    <tr>\n",
       "      <th>4</th>\n",
       "      <td>1</td>\n",
       "      <td>~10miles</td>\n",
       "      <td>9</td>\n",
       "      <td>2010-04-28</td>\n",
       "      <td>56K</td>\n",
       "      <td>57K</td>\n",
       "      <td>7</td>\n",
       "      <td>0</td>\n",
       "    </tr>\n",
       "  </tbody>\n",
       "</table>\n",
       "</div>"
      ],
      "text/plain": [
       "   Gender  Distance  YearsWorked    HireDate PreviousSalary Salary  \\\n",
       "0       0  ~20miles            8  2007-09-05            63K    66K   \n",
       "1       0  >30miles            7  2011-10-16            60K    63K   \n",
       "2       0  ~15miles            7  2011-05-18            59K    60K   \n",
       "3       1    <5mile            3  2000-06-30            60K    61K   \n",
       "4       1  ~10miles            9  2010-04-28            56K    57K   \n",
       "\n",
       "   DepartmentCode  Left  \n",
       "0               3     1  \n",
       "1               3     1  \n",
       "2               3     0  \n",
       "3               2     0  \n",
       "4               7     0  "
      ]
     },
     "execution_count": 68,
     "metadata": {},
     "output_type": "execute_result"
    }
   ],
   "source": [
    "df.head()"
   ]
  },
  {
   "cell_type": "code",
   "execution_count": 69,
   "metadata": {
    "colab": {
     "base_uri": "https://localhost:8080/"
    },
    "id": "Hfc0cGRf12aG",
    "outputId": "a3efc23a-5f77-491d-ac86-88763bf5035a"
   },
   "outputs": [
    {
     "data": {
      "text/plain": [
       "5"
      ]
     },
     "execution_count": 69,
     "metadata": {},
     "output_type": "execute_result"
    }
   ],
   "source": [
    "df.Distance.nunique()"
   ]
  },
  {
   "cell_type": "markdown",
   "metadata": {
    "id": "XxpJHASEkjNP"
   },
   "source": [
    "**Objective**: Develop a model to predict employee attrition using past data, augmented with labeled testing data provided by John.\n",
    "Data Exploration: Understand feature distributions, identify missing values, outliers, and feature-target relationships.\n",
    "Model Development: Consider various algorithms for binary classification, using evaluation metrics like accuracy, precision, recall, and F1-score."
   ]
  },
  {
   "cell_type": "markdown",
   "metadata": {
    "id": "4AqCVDyH4hRO"
   },
   "source": [
    "Data handling"
   ]
  },
  {
   "cell_type": "code",
   "execution_count": 70,
   "metadata": {
    "colab": {
     "base_uri": "https://localhost:8080/"
    },
    "id": "0XT42gUJ3Zc6",
    "outputId": "215475ad-63b7-4b49-cbaf-0d589caf3de2"
   },
   "outputs": [
    {
     "data": {
      "text/plain": [
       "Index(['Gender', 'Distance', 'YearsWorked', 'HireDate', 'PreviousSalary',\n",
       "       'Salary', 'DepartmentCode', 'Left'],\n",
       "      dtype='object')"
      ]
     },
     "execution_count": 70,
     "metadata": {},
     "output_type": "execute_result"
    }
   ],
   "source": [
    "df.columns"
   ]
  },
  {
   "cell_type": "code",
   "execution_count": 71,
   "metadata": {
    "colab": {
     "base_uri": "https://localhost:8080/"
    },
    "id": "FrbvJSmV4mdA",
    "outputId": "013e6210-b9ea-4645-b0d1-1620ccb662e4"
   },
   "outputs": [
    {
     "data": {
      "text/plain": [
       "Gender               2\n",
       "Distance             5\n",
       "YearsWorked         14\n",
       "HireDate          4458\n",
       "PreviousSalary      22\n",
       "Salary              25\n",
       "DepartmentCode       6\n",
       "Left                 2\n",
       "dtype: int64"
      ]
     },
     "execution_count": 71,
     "metadata": {},
     "output_type": "execute_result"
    }
   ],
   "source": [
    "df.nunique()"
   ]
  },
  {
   "cell_type": "code",
   "execution_count": 72,
   "metadata": {
    "colab": {
     "base_uri": "https://localhost:8080/"
    },
    "id": "2UvS13W84sSm",
    "outputId": "8fbc769e-9c6a-4691-e4e4-45a057ddcc0c"
   },
   "outputs": [
    {
     "data": {
      "text/plain": [
       "Gender             0\n",
       "Distance          10\n",
       "YearsWorked        0\n",
       "HireDate           0\n",
       "PreviousSalary     0\n",
       "Salary             0\n",
       "DepartmentCode     0\n",
       "Left               0\n",
       "dtype: int64"
      ]
     },
     "execution_count": 72,
     "metadata": {},
     "output_type": "execute_result"
    }
   ],
   "source": [
    "df.isnull().sum()"
   ]
  },
  {
   "cell_type": "code",
   "execution_count": 73,
   "metadata": {
    "id": "eHzTzUnA5kqo"
   },
   "outputs": [],
   "source": [
    "X_train = pd.read_csv('https://raw.githubusercontent.com/msaricaumbc/DS_data/master/ds602/final3/X_train.csv')\n",
    "X_test = pd.read_csv('https://raw.githubusercontent.com/msaricaumbc/DS_data/master/ds602/final3/X_test.csv')\n",
    "y_test = pd.read_csv('https://raw.githubusercontent.com/msaricaumbc/DS_data/master/ds602/final3/y_test.csv')\n",
    "y_train = pd.read_csv('predicted_labels.csv') # generated using random forest , refer to other notebook provided "
   ]
  },
  {
   "cell_type": "code",
   "execution_count": 75,
   "metadata": {
    "colab": {
     "base_uri": "https://localhost:8080/",
     "height": 423
    },
    "id": "EeJgOEsP6XQT",
    "outputId": "3e1f58a7-9ef8-4160-c18a-cf5d1ce94bea"
   },
   "outputs": [
    {
     "data": {
      "text/html": [
       "<div>\n",
       "<style scoped>\n",
       "    .dataframe tbody tr th:only-of-type {\n",
       "        vertical-align: middle;\n",
       "    }\n",
       "\n",
       "    .dataframe tbody tr th {\n",
       "        vertical-align: top;\n",
       "    }\n",
       "\n",
       "    .dataframe thead th {\n",
       "        text-align: right;\n",
       "    }\n",
       "</style>\n",
       "<table border=\"1\" class=\"dataframe\">\n",
       "  <thead>\n",
       "    <tr style=\"text-align: right;\">\n",
       "      <th></th>\n",
       "      <th>Gender</th>\n",
       "      <th>Distance</th>\n",
       "      <th>YearsWorked</th>\n",
       "      <th>HireDate</th>\n",
       "      <th>PreviousSalary</th>\n",
       "      <th>Salary</th>\n",
       "      <th>DepartmentCode</th>\n",
       "    </tr>\n",
       "  </thead>\n",
       "  <tbody>\n",
       "    <tr>\n",
       "      <th>0</th>\n",
       "      <td>0</td>\n",
       "      <td>~20miles</td>\n",
       "      <td>8</td>\n",
       "      <td>2007-09-05</td>\n",
       "      <td>63K</td>\n",
       "      <td>66K</td>\n",
       "      <td>3</td>\n",
       "    </tr>\n",
       "    <tr>\n",
       "      <th>1</th>\n",
       "      <td>0</td>\n",
       "      <td>&gt;30miles</td>\n",
       "      <td>7</td>\n",
       "      <td>2011-10-16</td>\n",
       "      <td>60K</td>\n",
       "      <td>63K</td>\n",
       "      <td>3</td>\n",
       "    </tr>\n",
       "    <tr>\n",
       "      <th>2</th>\n",
       "      <td>0</td>\n",
       "      <td>~15miles</td>\n",
       "      <td>7</td>\n",
       "      <td>2011-05-18</td>\n",
       "      <td>59K</td>\n",
       "      <td>60K</td>\n",
       "      <td>3</td>\n",
       "    </tr>\n",
       "    <tr>\n",
       "      <th>3</th>\n",
       "      <td>1</td>\n",
       "      <td>&lt;5mile</td>\n",
       "      <td>3</td>\n",
       "      <td>2000-06-30</td>\n",
       "      <td>60K</td>\n",
       "      <td>61K</td>\n",
       "      <td>2</td>\n",
       "    </tr>\n",
       "    <tr>\n",
       "      <th>4</th>\n",
       "      <td>1</td>\n",
       "      <td>~10miles</td>\n",
       "      <td>9</td>\n",
       "      <td>2010-04-28</td>\n",
       "      <td>56K</td>\n",
       "      <td>57K</td>\n",
       "      <td>7</td>\n",
       "    </tr>\n",
       "    <tr>\n",
       "      <th>...</th>\n",
       "      <td>...</td>\n",
       "      <td>...</td>\n",
       "      <td>...</td>\n",
       "      <td>...</td>\n",
       "      <td>...</td>\n",
       "      <td>...</td>\n",
       "      <td>...</td>\n",
       "    </tr>\n",
       "    <tr>\n",
       "      <th>7495</th>\n",
       "      <td>0</td>\n",
       "      <td>&gt;30miles</td>\n",
       "      <td>5</td>\n",
       "      <td>2014-03-15</td>\n",
       "      <td>60K</td>\n",
       "      <td>62K</td>\n",
       "      <td>6</td>\n",
       "    </tr>\n",
       "    <tr>\n",
       "      <th>7496</th>\n",
       "      <td>0</td>\n",
       "      <td>~10miles</td>\n",
       "      <td>7</td>\n",
       "      <td>2011-07-10</td>\n",
       "      <td>64K</td>\n",
       "      <td>68K</td>\n",
       "      <td>3</td>\n",
       "    </tr>\n",
       "    <tr>\n",
       "      <th>7497</th>\n",
       "      <td>0</td>\n",
       "      <td>~10miles</td>\n",
       "      <td>8</td>\n",
       "      <td>2006-08-19</td>\n",
       "      <td>56K</td>\n",
       "      <td>57K</td>\n",
       "      <td>2</td>\n",
       "    </tr>\n",
       "    <tr>\n",
       "      <th>7498</th>\n",
       "      <td>0</td>\n",
       "      <td>~20miles</td>\n",
       "      <td>6</td>\n",
       "      <td>2016-09-18</td>\n",
       "      <td>60K</td>\n",
       "      <td>62K</td>\n",
       "      <td>5</td>\n",
       "    </tr>\n",
       "    <tr>\n",
       "      <th>7499</th>\n",
       "      <td>0</td>\n",
       "      <td>~20miles</td>\n",
       "      <td>5</td>\n",
       "      <td>2013-12-26</td>\n",
       "      <td>57K</td>\n",
       "      <td>58K</td>\n",
       "      <td>7</td>\n",
       "    </tr>\n",
       "  </tbody>\n",
       "</table>\n",
       "<p>7500 rows × 7 columns</p>\n",
       "</div>"
      ],
      "text/plain": [
       "      Gender  Distance  YearsWorked    HireDate PreviousSalary Salary  \\\n",
       "0          0  ~20miles            8  2007-09-05            63K    66K   \n",
       "1          0  >30miles            7  2011-10-16            60K    63K   \n",
       "2          0  ~15miles            7  2011-05-18            59K    60K   \n",
       "3          1    <5mile            3  2000-06-30            60K    61K   \n",
       "4          1  ~10miles            9  2010-04-28            56K    57K   \n",
       "...      ...       ...          ...         ...            ...    ...   \n",
       "7495       0  >30miles            5  2014-03-15            60K    62K   \n",
       "7496       0  ~10miles            7  2011-07-10            64K    68K   \n",
       "7497       0  ~10miles            8  2006-08-19            56K    57K   \n",
       "7498       0  ~20miles            6  2016-09-18            60K    62K   \n",
       "7499       0  ~20miles            5  2013-12-26            57K    58K   \n",
       "\n",
       "      DepartmentCode  \n",
       "0                  3  \n",
       "1                  3  \n",
       "2                  3  \n",
       "3                  2  \n",
       "4                  7  \n",
       "...              ...  \n",
       "7495               6  \n",
       "7496               3  \n",
       "7497               2  \n",
       "7498               5  \n",
       "7499               7  \n",
       "\n",
       "[7500 rows x 7 columns]"
      ]
     },
     "execution_count": 75,
     "metadata": {},
     "output_type": "execute_result"
    }
   ],
   "source": [
    "X_train"
   ]
  },
  {
   "cell_type": "code",
   "execution_count": 76,
   "metadata": {
    "colab": {
     "base_uri": "https://localhost:8080/"
    },
    "id": "sxGQ7Tt76XTE",
    "outputId": "e73da0b8-e624-4a58-f583-a61614ea6925"
   },
   "outputs": [
    {
     "data": {
      "text/plain": [
       "Gender             0\n",
       "Distance          10\n",
       "YearsWorked        0\n",
       "HireDate           0\n",
       "PreviousSalary     0\n",
       "Salary             0\n",
       "DepartmentCode     0\n",
       "dtype: int64"
      ]
     },
     "execution_count": 76,
     "metadata": {},
     "output_type": "execute_result"
    }
   ],
   "source": [
    "X_train.isnull().sum()"
   ]
  },
  {
   "cell_type": "code",
   "execution_count": 77,
   "metadata": {
    "colab": {
     "base_uri": "https://localhost:8080/"
    },
    "id": "C8lkX2366XWE",
    "outputId": "c6e58c7c-41ed-4f72-9e8c-ba3ab67cd6c5"
   },
   "outputs": [
    {
     "data": {
      "text/plain": [
       "Gender               2\n",
       "Distance             5\n",
       "YearsWorked         14\n",
       "HireDate          4458\n",
       "PreviousSalary      22\n",
       "Salary              25\n",
       "DepartmentCode       6\n",
       "dtype: int64"
      ]
     },
     "execution_count": 77,
     "metadata": {},
     "output_type": "execute_result"
    }
   ],
   "source": [
    "X_train.nunique()"
   ]
  },
  {
   "cell_type": "code",
   "execution_count": 78,
   "metadata": {
    "colab": {
     "base_uri": "https://localhost:8080/"
    },
    "id": "T2Cl05MUnfcI",
    "outputId": "d38016e1-a865-4ab3-b4b3-2e691c0bc741"
   },
   "outputs": [
    {
     "data": {
      "text/plain": [
       "PreviousSalary\n",
       "60K    983\n",
       "59K    954\n",
       "61K    920\n",
       "58K    811\n",
       "62K    747\n",
       "57K    633\n",
       "63K    573\n",
       "56K    455\n",
       "64K    350\n",
       "55K    327\n",
       "54K    203\n",
       "65K    188\n",
       "53K    122\n",
       "66K     96\n",
       "52K     53\n",
       "51K     28\n",
       "67K     25\n",
       "50K     15\n",
       "68K      8\n",
       "49K      5\n",
       "48K      3\n",
       "69K      1\n",
       "Name: count, dtype: int64"
      ]
     },
     "execution_count": 78,
     "metadata": {},
     "output_type": "execute_result"
    }
   ],
   "source": [
    "X_train.PreviousSalary.value_counts()"
   ]
  },
  {
   "cell_type": "code",
   "execution_count": 79,
   "metadata": {
    "id": "hOr63A1qnfuY"
   },
   "outputs": [],
   "source": [
    "def convert_salary(df, columns):\n",
    "    for col in columns:\n",
    "        df[col] = df[col].apply(lambda x: float(x.replace('K', '')) * 1000 if 'K' in x else float(x))\n",
    "    return df\n",
    "\n",
    "columns_to_convert = ['PreviousSalary', 'Salary']\n",
    "X_train = convert_salary(X_train, columns_to_convert)\n",
    "X_test = convert_salary(X_test, columns_to_convert)"
   ]
  },
  {
   "cell_type": "code",
   "execution_count": 80,
   "metadata": {
    "colab": {
     "base_uri": "https://localhost:8080/",
     "height": 423
    },
    "id": "Md75_sVDoeuR",
    "outputId": "78bfac5a-67f9-4180-81b9-a00f3de8a791"
   },
   "outputs": [
    {
     "data": {
      "text/html": [
       "<div>\n",
       "<style scoped>\n",
       "    .dataframe tbody tr th:only-of-type {\n",
       "        vertical-align: middle;\n",
       "    }\n",
       "\n",
       "    .dataframe tbody tr th {\n",
       "        vertical-align: top;\n",
       "    }\n",
       "\n",
       "    .dataframe thead th {\n",
       "        text-align: right;\n",
       "    }\n",
       "</style>\n",
       "<table border=\"1\" class=\"dataframe\">\n",
       "  <thead>\n",
       "    <tr style=\"text-align: right;\">\n",
       "      <th></th>\n",
       "      <th>Gender</th>\n",
       "      <th>Distance</th>\n",
       "      <th>YearsWorked</th>\n",
       "      <th>HireDate</th>\n",
       "      <th>PreviousSalary</th>\n",
       "      <th>Salary</th>\n",
       "      <th>DepartmentCode</th>\n",
       "    </tr>\n",
       "  </thead>\n",
       "  <tbody>\n",
       "    <tr>\n",
       "      <th>0</th>\n",
       "      <td>0</td>\n",
       "      <td>~20miles</td>\n",
       "      <td>8</td>\n",
       "      <td>2007-09-05</td>\n",
       "      <td>63000.0</td>\n",
       "      <td>66000.0</td>\n",
       "      <td>3</td>\n",
       "    </tr>\n",
       "    <tr>\n",
       "      <th>1</th>\n",
       "      <td>0</td>\n",
       "      <td>&gt;30miles</td>\n",
       "      <td>7</td>\n",
       "      <td>2011-10-16</td>\n",
       "      <td>60000.0</td>\n",
       "      <td>63000.0</td>\n",
       "      <td>3</td>\n",
       "    </tr>\n",
       "    <tr>\n",
       "      <th>2</th>\n",
       "      <td>0</td>\n",
       "      <td>~15miles</td>\n",
       "      <td>7</td>\n",
       "      <td>2011-05-18</td>\n",
       "      <td>59000.0</td>\n",
       "      <td>60000.0</td>\n",
       "      <td>3</td>\n",
       "    </tr>\n",
       "    <tr>\n",
       "      <th>3</th>\n",
       "      <td>1</td>\n",
       "      <td>&lt;5mile</td>\n",
       "      <td>3</td>\n",
       "      <td>2000-06-30</td>\n",
       "      <td>60000.0</td>\n",
       "      <td>61000.0</td>\n",
       "      <td>2</td>\n",
       "    </tr>\n",
       "    <tr>\n",
       "      <th>4</th>\n",
       "      <td>1</td>\n",
       "      <td>~10miles</td>\n",
       "      <td>9</td>\n",
       "      <td>2010-04-28</td>\n",
       "      <td>56000.0</td>\n",
       "      <td>57000.0</td>\n",
       "      <td>7</td>\n",
       "    </tr>\n",
       "    <tr>\n",
       "      <th>...</th>\n",
       "      <td>...</td>\n",
       "      <td>...</td>\n",
       "      <td>...</td>\n",
       "      <td>...</td>\n",
       "      <td>...</td>\n",
       "      <td>...</td>\n",
       "      <td>...</td>\n",
       "    </tr>\n",
       "    <tr>\n",
       "      <th>7495</th>\n",
       "      <td>0</td>\n",
       "      <td>&gt;30miles</td>\n",
       "      <td>5</td>\n",
       "      <td>2014-03-15</td>\n",
       "      <td>60000.0</td>\n",
       "      <td>62000.0</td>\n",
       "      <td>6</td>\n",
       "    </tr>\n",
       "    <tr>\n",
       "      <th>7496</th>\n",
       "      <td>0</td>\n",
       "      <td>~10miles</td>\n",
       "      <td>7</td>\n",
       "      <td>2011-07-10</td>\n",
       "      <td>64000.0</td>\n",
       "      <td>68000.0</td>\n",
       "      <td>3</td>\n",
       "    </tr>\n",
       "    <tr>\n",
       "      <th>7497</th>\n",
       "      <td>0</td>\n",
       "      <td>~10miles</td>\n",
       "      <td>8</td>\n",
       "      <td>2006-08-19</td>\n",
       "      <td>56000.0</td>\n",
       "      <td>57000.0</td>\n",
       "      <td>2</td>\n",
       "    </tr>\n",
       "    <tr>\n",
       "      <th>7498</th>\n",
       "      <td>0</td>\n",
       "      <td>~20miles</td>\n",
       "      <td>6</td>\n",
       "      <td>2016-09-18</td>\n",
       "      <td>60000.0</td>\n",
       "      <td>62000.0</td>\n",
       "      <td>5</td>\n",
       "    </tr>\n",
       "    <tr>\n",
       "      <th>7499</th>\n",
       "      <td>0</td>\n",
       "      <td>~20miles</td>\n",
       "      <td>5</td>\n",
       "      <td>2013-12-26</td>\n",
       "      <td>57000.0</td>\n",
       "      <td>58000.0</td>\n",
       "      <td>7</td>\n",
       "    </tr>\n",
       "  </tbody>\n",
       "</table>\n",
       "<p>7500 rows × 7 columns</p>\n",
       "</div>"
      ],
      "text/plain": [
       "      Gender  Distance  YearsWorked    HireDate  PreviousSalary   Salary  \\\n",
       "0          0  ~20miles            8  2007-09-05         63000.0  66000.0   \n",
       "1          0  >30miles            7  2011-10-16         60000.0  63000.0   \n",
       "2          0  ~15miles            7  2011-05-18         59000.0  60000.0   \n",
       "3          1    <5mile            3  2000-06-30         60000.0  61000.0   \n",
       "4          1  ~10miles            9  2010-04-28         56000.0  57000.0   \n",
       "...      ...       ...          ...         ...             ...      ...   \n",
       "7495       0  >30miles            5  2014-03-15         60000.0  62000.0   \n",
       "7496       0  ~10miles            7  2011-07-10         64000.0  68000.0   \n",
       "7497       0  ~10miles            8  2006-08-19         56000.0  57000.0   \n",
       "7498       0  ~20miles            6  2016-09-18         60000.0  62000.0   \n",
       "7499       0  ~20miles            5  2013-12-26         57000.0  58000.0   \n",
       "\n",
       "      DepartmentCode  \n",
       "0                  3  \n",
       "1                  3  \n",
       "2                  3  \n",
       "3                  2  \n",
       "4                  7  \n",
       "...              ...  \n",
       "7495               6  \n",
       "7496               3  \n",
       "7497               2  \n",
       "7498               5  \n",
       "7499               7  \n",
       "\n",
       "[7500 rows x 7 columns]"
      ]
     },
     "execution_count": 80,
     "metadata": {},
     "output_type": "execute_result"
    }
   ],
   "source": [
    "X_train"
   ]
  },
  {
   "cell_type": "code",
   "execution_count": 81,
   "metadata": {
    "id": "og9RTwqF6XhZ"
   },
   "outputs": [],
   "source": [
    "X_train = X_train.drop('HireDate',axis=1)"
   ]
  },
  {
   "cell_type": "code",
   "execution_count": 82,
   "metadata": {
    "id": "-4EoVqUN6XlA"
   },
   "outputs": [],
   "source": [
    "X_test = X_test.drop('HireDate',axis=1)"
   ]
  },
  {
   "cell_type": "code",
   "execution_count": 83,
   "metadata": {
    "colab": {
     "base_uri": "https://localhost:8080/",
     "height": 472
    },
    "id": "k2uUr8LNpsAZ",
    "outputId": "80689cf7-5537-4070-d670-3b9475b456e7"
   },
   "outputs": [
    {
     "data": {
      "image/png": "[encoded data removed]",
      "text/plain": [
       "<Figure size 432x288 with 1 Axes>"
      ]
     },
     "metadata": {
      "needs_background": "light"
     },
     "output_type": "display_data"
    }
   ],
   "source": [
    "plt.hist(df['YearsWorked'], bins=20)\n",
    "plt.xlabel('Years Worked')\n",
    "plt.ylabel('Frequency')\n",
    "plt.title('Histogram of Years Worked')\n",
    "plt.show()"
   ]
  },
  {
   "cell_type": "code",
   "execution_count": 84,
   "metadata": {
    "colab": {
     "base_uri": "https://localhost:8080/",
     "height": 472
    },
    "id": "faY-U6_0qHP-",
    "outputId": "6641d187-5125-4520-e0db-3fd2d3fe40a6"
   },
   "outputs": [
    {
     "data": {
      "image/png": "[encoded data removed]",
      "text/plain": [
       "<Figure size 432x288 with 1 Axes>"
      ]
     },
     "metadata": {
      "needs_background": "light"
     },
     "output_type": "display_data"
    }
   ],
   "source": [
    "import pandas as pd\n",
    "import matplotlib.pyplot as plt\n",
    "\n",
    "\n",
    "left_counts = df['Left'].value_counts()\n",
    "\n",
    "# Create a bar graph\n",
    "plt.bar(left_counts.index, left_counts.values)\n",
    "\n",
    "# Customize the plot\n",
    "plt.xlabel('Left Status')\n",
    "plt.ylabel('Count')\n",
    "plt.title('Count of Employees Leaving vs Not Leaving')\n",
    "plt.xticks([0, 1], ['Not Leaving', 'Leaving'])\n",
    "\n",
    "# Show the plot\n",
    "plt.show()"
   ]
  },
  {
   "cell_type": "markdown",
   "metadata": {
    "id": "JuhTtsaip4cL"
   },
   "source": [
    "Column handling"
   ]
  },
  {
   "cell_type": "code",
   "execution_count": 85,
   "metadata": {
    "colab": {
     "base_uri": "https://localhost:8080/",
     "height": 423
    },
    "id": "qB9NHSgGp43T",
    "outputId": "8b47b36f-da20-4bfb-d404-151538cbb167"
   },
   "outputs": [
    {
     "data": {
      "text/html": [
       "<div>\n",
       "<style scoped>\n",
       "    .dataframe tbody tr th:only-of-type {\n",
       "        vertical-align: middle;\n",
       "    }\n",
       "\n",
       "    .dataframe tbody tr th {\n",
       "        vertical-align: top;\n",
       "    }\n",
       "\n",
       "    .dataframe thead th {\n",
       "        text-align: right;\n",
       "    }\n",
       "</style>\n",
       "<table border=\"1\" class=\"dataframe\">\n",
       "  <thead>\n",
       "    <tr style=\"text-align: right;\">\n",
       "      <th></th>\n",
       "      <th>Gender</th>\n",
       "      <th>Distance</th>\n",
       "      <th>YearsWorked</th>\n",
       "      <th>PreviousSalary</th>\n",
       "      <th>Salary</th>\n",
       "      <th>DepartmentCode</th>\n",
       "    </tr>\n",
       "  </thead>\n",
       "  <tbody>\n",
       "    <tr>\n",
       "      <th>0</th>\n",
       "      <td>0</td>\n",
       "      <td>~20miles</td>\n",
       "      <td>8</td>\n",
       "      <td>63000.0</td>\n",
       "      <td>66000.0</td>\n",
       "      <td>3</td>\n",
       "    </tr>\n",
       "    <tr>\n",
       "      <th>1</th>\n",
       "      <td>0</td>\n",
       "      <td>&gt;30miles</td>\n",
       "      <td>7</td>\n",
       "      <td>60000.0</td>\n",
       "      <td>63000.0</td>\n",
       "      <td>3</td>\n",
       "    </tr>\n",
       "    <tr>\n",
       "      <th>2</th>\n",
       "      <td>0</td>\n",
       "      <td>~15miles</td>\n",
       "      <td>7</td>\n",
       "      <td>59000.0</td>\n",
       "      <td>60000.0</td>\n",
       "      <td>3</td>\n",
       "    </tr>\n",
       "    <tr>\n",
       "      <th>3</th>\n",
       "      <td>1</td>\n",
       "      <td>&lt;5mile</td>\n",
       "      <td>3</td>\n",
       "      <td>60000.0</td>\n",
       "      <td>61000.0</td>\n",
       "      <td>2</td>\n",
       "    </tr>\n",
       "    <tr>\n",
       "      <th>4</th>\n",
       "      <td>1</td>\n",
       "      <td>~10miles</td>\n",
       "      <td>9</td>\n",
       "      <td>56000.0</td>\n",
       "      <td>57000.0</td>\n",
       "      <td>7</td>\n",
       "    </tr>\n",
       "    <tr>\n",
       "      <th>...</th>\n",
       "      <td>...</td>\n",
       "      <td>...</td>\n",
       "      <td>...</td>\n",
       "      <td>...</td>\n",
       "      <td>...</td>\n",
       "      <td>...</td>\n",
       "    </tr>\n",
       "    <tr>\n",
       "      <th>7495</th>\n",
       "      <td>0</td>\n",
       "      <td>&gt;30miles</td>\n",
       "      <td>5</td>\n",
       "      <td>60000.0</td>\n",
       "      <td>62000.0</td>\n",
       "      <td>6</td>\n",
       "    </tr>\n",
       "    <tr>\n",
       "      <th>7496</th>\n",
       "      <td>0</td>\n",
       "      <td>~10miles</td>\n",
       "      <td>7</td>\n",
       "      <td>64000.0</td>\n",
       "      <td>68000.0</td>\n",
       "      <td>3</td>\n",
       "    </tr>\n",
       "    <tr>\n",
       "      <th>7497</th>\n",
       "      <td>0</td>\n",
       "      <td>~10miles</td>\n",
       "      <td>8</td>\n",
       "      <td>56000.0</td>\n",
       "      <td>57000.0</td>\n",
       "      <td>2</td>\n",
       "    </tr>\n",
       "    <tr>\n",
       "      <th>7498</th>\n",
       "      <td>0</td>\n",
       "      <td>~20miles</td>\n",
       "      <td>6</td>\n",
       "      <td>60000.0</td>\n",
       "      <td>62000.0</td>\n",
       "      <td>5</td>\n",
       "    </tr>\n",
       "    <tr>\n",
       "      <th>7499</th>\n",
       "      <td>0</td>\n",
       "      <td>~20miles</td>\n",
       "      <td>5</td>\n",
       "      <td>57000.0</td>\n",
       "      <td>58000.0</td>\n",
       "      <td>7</td>\n",
       "    </tr>\n",
       "  </tbody>\n",
       "</table>\n",
       "<p>7500 rows × 6 columns</p>\n",
       "</div>"
      ],
      "text/plain": [
       "      Gender  Distance  YearsWorked  PreviousSalary   Salary  DepartmentCode\n",
       "0          0  ~20miles            8         63000.0  66000.0               3\n",
       "1          0  >30miles            7         60000.0  63000.0               3\n",
       "2          0  ~15miles            7         59000.0  60000.0               3\n",
       "3          1    <5mile            3         60000.0  61000.0               2\n",
       "4          1  ~10miles            9         56000.0  57000.0               7\n",
       "...      ...       ...          ...             ...      ...             ...\n",
       "7495       0  >30miles            5         60000.0  62000.0               6\n",
       "7496       0  ~10miles            7         64000.0  68000.0               3\n",
       "7497       0  ~10miles            8         56000.0  57000.0               2\n",
       "7498       0  ~20miles            6         60000.0  62000.0               5\n",
       "7499       0  ~20miles            5         57000.0  58000.0               7\n",
       "\n",
       "[7500 rows x 6 columns]"
      ]
     },
     "execution_count": 85,
     "metadata": {},
     "output_type": "execute_result"
    }
   ],
   "source": [
    "X_train"
   ]
  },
  {
   "cell_type": "code",
   "execution_count": 86,
   "metadata": {
    "id": "KDAh3UNlp48x"
   },
   "outputs": [],
   "source": [
    "from sklearn.impute import SimpleImputer\n",
    "import pandas as pd\n",
    "\n",
    "\n",
    "numerical_cols = ['YearsWorked', 'PreviousSalary', 'Salary']\n",
    "categorical_cols = ['Gender', 'Distance', 'DepartmentCode']\n",
    "\n",
    "\n",
    "numerical_imputer = SimpleImputer(strategy='median')\n",
    "X_train[numerical_cols] = numerical_imputer.fit_transform(X_train[numerical_cols])\n",
    "\n",
    "X_train_org = X_train.copy()\n",
    "\n",
    "\n",
    "categorical_imputer = SimpleImputer(strategy='most_frequent')\n",
    "X_train[categorical_cols] = categorical_imputer.fit_transform(X_train[categorical_cols])"
   ]
  },
  {
   "cell_type": "code",
   "execution_count": 87,
   "metadata": {
    "colab": {
     "base_uri": "https://localhost:8080/"
    },
    "id": "yXTOziAvrPlT",
    "outputId": "65e329a5-fc40-4d58-a0e0-b5c1724e212a"
   },
   "outputs": [
    {
     "name": "stdout",
     "output_type": "stream",
     "text": [
      "   YearsWorked  PreviousSalary   Salary  Gender_0  Gender_1  Distance_<5mile  \\\n",
      "0          8.0         63000.0  66000.0      True     False            False   \n",
      "1          7.0         60000.0  63000.0      True     False            False   \n",
      "2          7.0         59000.0  60000.0      True     False            False   \n",
      "3          3.0         60000.0  61000.0     False      True             True   \n",
      "4          9.0         56000.0  57000.0     False      True            False   \n",
      "\n",
      "   Distance_>30miles  Distance_~10miles  Distance_~15miles  Distance_~20miles  \\\n",
      "0              False              False              False               True   \n",
      "1               True              False              False              False   \n",
      "2              False              False               True              False   \n",
      "3              False              False              False              False   \n",
      "4              False               True              False              False   \n",
      "\n",
      "   DepartmentCode_1  DepartmentCode_2  DepartmentCode_3  DepartmentCode_5  \\\n",
      "0             False             False              True             False   \n",
      "1             False             False              True             False   \n",
      "2             False             False              True             False   \n",
      "3             False              True             False             False   \n",
      "4             False             False             False             False   \n",
      "\n",
      "   DepartmentCode_6  DepartmentCode_7  \n",
      "0             False             False  \n",
      "1             False             False  \n",
      "2             False             False  \n",
      "3             False             False  \n",
      "4             False              True  \n"
     ]
    }
   ],
   "source": [
    "#One hot encoding\n",
    "import pandas as pd\n",
    "\n",
    "categorical_cols = ['Gender', 'Distance', 'DepartmentCode']\n",
    "X_train_encoded = pd.get_dummies(X_train, columns=categorical_cols)\n",
    "print(X_train_encoded.head())"
   ]
  },
  {
   "cell_type": "code",
   "execution_count": 88,
   "metadata": {
    "id": "CUV-EtNxMa0n"
   },
   "outputs": [],
   "source": [
    "X_test_encoded = pd.get_dummies(X_test, columns=categorical_cols)"
   ]
  },
  {
   "cell_type": "code",
   "execution_count": 90,
   "metadata": {
    "id": "BiUBa7FZHcDi"
   },
   "outputs": [],
   "source": [
    "X_train_final = X_train_encoded\n",
    "y_train_final = y_train"
   ]
  },
  {
   "cell_type": "code",
   "execution_count": 91,
   "metadata": {},
   "outputs": [
    {
     "data": {
      "text/html": [
       "<div>\n",
       "<style scoped>\n",
       "    .dataframe tbody tr th:only-of-type {\n",
       "        vertical-align: middle;\n",
       "    }\n",
       "\n",
       "    .dataframe tbody tr th {\n",
       "        vertical-align: top;\n",
       "    }\n",
       "\n",
       "    .dataframe thead th {\n",
       "        text-align: right;\n",
       "    }\n",
       "</style>\n",
       "<table border=\"1\" class=\"dataframe\">\n",
       "  <thead>\n",
       "    <tr style=\"text-align: right;\">\n",
       "      <th></th>\n",
       "      <th>Predicted_Label</th>\n",
       "    </tr>\n",
       "  </thead>\n",
       "  <tbody>\n",
       "    <tr>\n",
       "      <th>0</th>\n",
       "      <td>0.89</td>\n",
       "    </tr>\n",
       "    <tr>\n",
       "      <th>1</th>\n",
       "      <td>1.00</td>\n",
       "    </tr>\n",
       "    <tr>\n",
       "      <th>2</th>\n",
       "      <td>0.00</td>\n",
       "    </tr>\n",
       "    <tr>\n",
       "      <th>3</th>\n",
       "      <td>0.12</td>\n",
       "    </tr>\n",
       "    <tr>\n",
       "      <th>4</th>\n",
       "      <td>0.05</td>\n",
       "    </tr>\n",
       "    <tr>\n",
       "      <th>...</th>\n",
       "      <td>...</td>\n",
       "    </tr>\n",
       "    <tr>\n",
       "      <th>7495</th>\n",
       "      <td>0.88</td>\n",
       "    </tr>\n",
       "    <tr>\n",
       "      <th>7496</th>\n",
       "      <td>0.00</td>\n",
       "    </tr>\n",
       "    <tr>\n",
       "      <th>7497</th>\n",
       "      <td>0.05</td>\n",
       "    </tr>\n",
       "    <tr>\n",
       "      <th>7498</th>\n",
       "      <td>0.98</td>\n",
       "    </tr>\n",
       "    <tr>\n",
       "      <th>7499</th>\n",
       "      <td>0.97</td>\n",
       "    </tr>\n",
       "  </tbody>\n",
       "</table>\n",
       "<p>7500 rows × 1 columns</p>\n",
       "</div>"
      ],
      "text/plain": [
       "      Predicted_Label\n",
       "0                0.89\n",
       "1                1.00\n",
       "2                0.00\n",
       "3                0.12\n",
       "4                0.05\n",
       "...               ...\n",
       "7495             0.88\n",
       "7496             0.00\n",
       "7497             0.05\n",
       "7498             0.98\n",
       "7499             0.97\n",
       "\n",
       "[7500 rows x 1 columns]"
      ]
     },
     "execution_count": 91,
     "metadata": {},
     "output_type": "execute_result"
    }
   ],
   "source": [
    "y_train_final"
   ]
  },
  {
   "cell_type": "code",
   "execution_count": 92,
   "metadata": {},
   "outputs": [],
   "source": [
    "y_train_final = y_train_final['Predicted_Label'].apply(lambda x: 1 if x >= 0.5 else 0)"
   ]
  },
  {
   "cell_type": "code",
   "execution_count": 93,
   "metadata": {},
   "outputs": [
    {
     "data": {
      "text/plain": [
       "0       1\n",
       "1       1\n",
       "2       0\n",
       "3       0\n",
       "4       0\n",
       "       ..\n",
       "7495    1\n",
       "7496    0\n",
       "7497    0\n",
       "7498    1\n",
       "7499    1\n",
       "Name: Predicted_Label, Length: 7500, dtype: int64"
      ]
     },
     "execution_count": 93,
     "metadata": {},
     "output_type": "execute_result"
    }
   ],
   "source": [
    "y_train_final"
   ]
  },
  {
   "cell_type": "code",
   "execution_count": 61,
   "metadata": {
    "colab": {
     "base_uri": "https://localhost:8080/"
    },
    "id": "-gWFVT48JyU4",
    "outputId": "50ee6fda-d9c8-4d85-b83e-b5f907fa9ced"
   },
   "outputs": [
    {
     "name": "stdout",
     "output_type": "stream",
     "text": [
      "Algorithm\t\tBest Params\t\tAccuracy on Test Data\n",
      "------------------------------------------------------------\n",
      "Logistic Regression\t{'C': 1}\t\t0.9132\n",
      "Random Forest\t{'max_depth': None, 'n_estimators': 150}\t\t0.9056\n",
      "Support Vector Machine\t{'C': 10, 'gamma': 0.1}\t\t0.9008\n"
     ]
    }
   ],
   "source": [
    "from sklearn.model_selection import GridSearchCV\n",
    "from sklearn.linear_model import LogisticRegression\n",
    "from sklearn.ensemble import RandomForestClassifier\n",
    "from sklearn.svm import SVC\n",
    "from sklearn.metrics import accuracy_score\n",
    "\n",
    "\n",
    "classifiers = {\n",
    "    'Logistic Regression': LogisticRegression(max_iter=1000),\n",
    "    'Random Forest': RandomForestClassifier(),\n",
    "    'Support Vector Machine': SVC()\n",
    "}\n",
    "\n",
    "param_grids = {\n",
    "    'Logistic Regression': {'C': [0.1, 1, 10]},\n",
    "    'Random Forest': {'n_estimators': [50, 100, 150], 'max_depth': [None, 5, 10]},\n",
    "    'Support Vector Machine': {'C': [0.1, 1, 10], 'gamma': [0.1, 1, 10]}\n",
    "}\n",
    "\n",
    "# Perform Grid Search CV for each classifier\n",
    "results = {}\n",
    "for clf_name, clf in classifiers.items():\n",
    "    grid_search = GridSearchCV(clf, param_grids[clf_name], cv=5, scoring='accuracy')\n",
    "    grid_search.fit(X_train_final, y_train_final)\n",
    "    best_params = grid_search.best_params_\n",
    "    best_clf = grid_search.best_estimator_\n",
    "    y_pred = best_clf.predict(X_test_encoded)\n",
    "    accuracy = accuracy_score(y_test, y_pred)\n",
    "    results[clf_name] = {'Best Params': best_params, 'Accuracy on Test Data': accuracy}\n",
    "\n",
    "# Print the results in a table format\n",
    "print(\"Algorithm\\t\\tBest Params\\t\\tAccuracy on Test Data\")\n",
    "print(\"------------------------------------------------------------\")\n",
    "for clf_name, result in results.items():\n",
    "    print(f\"{clf_name}\\t{result['Best Params']}\\t\\t{result['Accuracy on Test Data']:.4f}\")"
   ]
  },
  {
   "cell_type": "code",
   "execution_count": 94,
   "metadata": {
    "colab": {
     "base_uri": "https://localhost:8080/"
    },
    "id": "BdAMvZhEPnbC",
    "outputId": "b21fcc96-d09d-44d8-f441-5061302e1fa6"
   },
   "outputs": [
    {
     "name": "stdout",
     "output_type": "stream",
     "text": [
      "Logistic Regression:\n",
      "Best Params: {'C': 1}\n",
      "Accuracy on Test Data: 0.9132\n"
     ]
    }
   ],
   "source": [
    "from sklearn.model_selection import GridSearchCV\n",
    "from sklearn.linear_model import LogisticRegression\n",
    "from sklearn.metrics import accuracy_score\n",
    "\n",
    "# Define the Logistic Regression classifier and its updated parameter grid for Grid Search CV\n",
    "logreg_classifier = LogisticRegression(max_iter=1000)\n",
    "\n",
    "param_grid_logreg = {\n",
    "    'C': [0.01,0.005,0.1, 1, 5.5, 10, 30, 90],\n",
    "}\n",
    "\n",
    "# Perform Grid Search CV for Logistic Regression\n",
    "grid_search_logreg = GridSearchCV(logreg_classifier, param_grid_logreg, cv=5, scoring='accuracy')\n",
    "grid_search_logreg.fit(X_train_final, y_train_final)\n",
    "best_params_logreg = grid_search_logreg.best_params_\n",
    "best_logreg = grid_search_logreg.best_estimator_\n",
    "y_pred_logreg = best_logreg.predict(X_test_encoded)\n",
    "accuracy_logreg = accuracy_score(y_test, y_pred_logreg)\n",
    "\n",
    "# Print the results for Logistic Regression\n",
    "print(\"Logistic Regression:\")\n",
    "print(\"Best Params:\", best_params_logreg)\n",
    "print(\"Accuracy on Test Data:\", accuracy_logreg)"
   ]
  },
  {
   "cell_type": "code",
   "execution_count": 95,
   "metadata": {
    "colab": {
     "base_uri": "https://localhost:8080/"
    },
    "id": "GbIj-UmORt-g",
    "outputId": "df025c29-4f6f-4e62-9d50-84a71236243e"
   },
   "outputs": [
    {
     "name": "stdout",
     "output_type": "stream",
     "text": [
      "Classification Report for Logistic Regression:\n",
      "              precision    recall  f1-score   support\n",
      "\n",
      "           0       0.95      0.93      0.94      1847\n",
      "           1       0.81      0.88      0.84       653\n",
      "\n",
      "    accuracy                           0.91      2500\n",
      "   macro avg       0.88      0.90      0.89      2500\n",
      "weighted avg       0.92      0.91      0.91      2500\n",
      "\n"
     ]
    }
   ],
   "source": [
    "from sklearn.metrics import classification_report\n",
    "\n",
    "# Calculate the classification report for Logistic Regression\n",
    "classification_report_logreg = classification_report(y_test, y_pred_logreg)\n",
    "\n",
    "# Print the classification report\n",
    "print(\"Classification Report for Logistic Regression:\")\n",
    "print(classification_report_logreg)"
   ]
  },
  {
   "cell_type": "markdown",
   "metadata": {
    "id": "0bG2z9dlnWm_"
   },
   "source": [
    "**conclusion:**\n",
    "The Logistic Regression model outperformed the Random Forest and Support Vector Machine models in terms of accuracy on the test data.\n",
    "•    However, all three models struggled to accurately predict instances of employees who left (‘left’ class), as indicated by low precision, recall, and F1-score for that class."
   ]
  },
  {
   "cell_type": "code",
   "execution_count": null,
   "metadata": {
    "id": "gP_H_88DSPEd"
   },
   "outputs": [],
   "source": []
  }
 ],
 "metadata": {
  "colab": {
   "provenance": []
  },
  "kernelspec": {
   "display_name": "Python 3 (ipykernel)",
   "language": "python",
   "name": "python3"
  },
  "language_info": {
   "codemirror_mode": {
    "name": "ipython",
    "version": 3
   },
   "file_extension": ".py",
   "mimetype": "text/x-python",
   "name": "python",
   "nbconvert_exporter": "python",
   "pygments_lexer": "ipython3",
   "version": "3.11.4"
  }
 },
 "nbformat": 4,
 "nbformat_minor": 4
}
