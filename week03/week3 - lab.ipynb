{
 "cells": [
  {
   "cell_type": "markdown",
   "id": "57771d6f",
   "metadata": {
    "id": "57771d6f"
   },
   "source": [
    "# Week 3 - Lab"
   ]
  },
  {
   "cell_type": "markdown",
   "id": "ccb647fd",
   "metadata": {
    "id": "ccb647fd"
   },
   "source": [
    "## Part1:\n",
    "#### Explain briefly (1-2 sentences)"
   ]
  },
  {
   "cell_type": "markdown",
   "id": "1d4ce05f",
   "metadata": {
    "id": "1d4ce05f"
   },
   "source": [
    "1. Differences between supervised and unsupervised learning?  \n"
   ]
  },
  {
   "cell_type": "markdown",
   "id": "03e12e71",
   "metadata": {
    "id": "03e12e71"
   },
   "source": [
    "Your answer"
   ]
  },
  {
   "cell_type": "markdown",
   "id": "417b2350",
   "metadata": {},
   "source": [
    "\"Supervised learning algorithms are trained using labeled data, where the correct answer (outcome) is known and the algorithm makes predictions based on that data. Unsupervised learning, on the other hand, deals with data without labeled responses, and the system tries to learn the patterns and the structure from the data without any explicit instructions on what to predict.\""
   ]
  },
  {
   "cell_type": "markdown",
   "id": "ff70d958",
   "metadata": {
    "id": "ff70d958"
   },
   "source": [
    "2. Differences between classification and regression?  "
   ]
  },
  {
   "cell_type": "markdown",
   "id": "8a7b813d",
   "metadata": {
    "id": "8a7b813d"
   },
   "source": [
    "Your answer"
   ]
  },
  {
   "cell_type": "markdown",
   "id": "c2ac9fc7",
   "metadata": {},
   "source": [
    "\"Classification is used to predict discrete outcomes, with the output variable being a category, such as 'spam' or 'not spam'. Regression is used to predict continuous outcomes, with the output variable being a real value, such as 'temperature' or 'price'.\""
   ]
  },
  {
   "cell_type": "markdown",
   "id": "d99b1c51",
   "metadata": {
    "id": "d99b1c51"
   },
   "source": [
    "3. Classification and regression are the only types of supervised learning?"
   ]
  },
  {
   "cell_type": "markdown",
   "id": "dc69142e",
   "metadata": {
    "id": "dc69142e"
   },
   "source": [
    "Your answer"
   ]
  },
  {
   "cell_type": "markdown",
   "id": "16219fac",
   "metadata": {},
   "source": [
    "\"No, classification and regression are not the only types of supervised learning. There are other specialized types such as ranking, recommendation, and anomaly detection which can also be considered under the umbrella of supervised learning depending on the context.\""
   ]
  },
  {
   "cell_type": "markdown",
   "id": "2dddc898",
   "metadata": {
    "id": "2dddc898"
   },
   "source": [
    "## Part2\n",
    "\n",
    "#### Write a rule based predictor.\n",
    "Do your EDA and complete `predict_one` function below.\n",
    "Your model does not need to be perfect!\n",
    "\n",
    "* Don't use a machine learning model"
   ]
  },
  {
   "cell_type": "code",
   "execution_count": 18,
   "id": "76611fb3",
   "metadata": {
    "id": "76611fb3",
    "outputId": "254fca35-aec2-49a7-becf-36709a2f3713"
   },
   "outputs": [
    {
     "name": "stdout",
     "output_type": "stream",
     "text": [
      "<class 'pandas.core.frame.DataFrame'>\n",
      "RangeIndex: 150 entries, 0 to 149\n",
      "Data columns (total 5 columns):\n",
      " #   Column        Non-Null Count  Dtype  \n",
      "---  ------        --------------  -----  \n",
      " 0   sepal_length  150 non-null    float64\n",
      " 1   sepal_width   150 non-null    float64\n",
      " 2   petal_length  150 non-null    float64\n",
      " 3   petal_width   150 non-null    float64\n",
      " 4   species       150 non-null    object \n",
      "dtypes: float64(4), object(1)\n",
      "memory usage: 6.0+ KB\n"
     ]
    }
   ],
   "source": [
    "import pandas as pd\n",
    "import numpy as np\n",
    "from matplotlib import pyplot as plt\n",
    "import seaborn as sns\n",
    "\n",
    "\n",
    "df = pd.read_csv('https://raw.githubusercontent.com/msaricaumbc/DS_data/master/ds602/iris.csv')\n",
    "df.info()"
   ]
  },
  {
   "cell_type": "code",
   "execution_count": 21,
   "id": "a8e58017",
   "metadata": {},
   "outputs": [
    {
     "data": {
      "text/plain": [
       "Iris-setosa        50\n",
       "Iris-versicolor    50\n",
       "Iris-virginica     50\n",
       "Name: species, dtype: int64"
      ]
     },
     "execution_count": 21,
     "metadata": {},
     "output_type": "execute_result"
    }
   ],
   "source": [
    "df.species.value_counts()"
   ]
  },
  {
   "cell_type": "code",
   "execution_count": 30,
   "id": "7aa7752b",
   "metadata": {},
   "outputs": [],
   "source": [
    "\n",
    "def predict_one(sepal_length, sepal_width, petal_length, petal_width):\n",
    "    # your code\n",
    "    if petal_length < 2:\n",
    "        return 'Iris-setosa'\n",
    "    elif petal_length >= 2 and petal_width <= 1.6:\n",
    "        return 'Iris-versicolor'\n",
    "    else:\n",
    "        return 'Iris-virginica'"
   ]
  },
  {
   "cell_type": "code",
   "execution_count": 31,
   "id": "567ee68e",
   "metadata": {
    "id": "567ee68e",
    "outputId": "19e58664-8e8f-490e-c49c-a1a8ab879a57"
   },
   "outputs": [
    {
     "name": "stdout",
     "output_type": "stream",
     "text": [
      "Accuracy: 0.96\n"
     ]
    }
   ],
   "source": [
    "## DO NOT MODIFY THIS CELL\n",
    "def show_accuracy():\n",
    "    predictions = pd.Series([ predict_one(sl, sw, pl, pw) for sl, sw, pl, pw in zip(df.sepal_length, df.sepal_width, df.petal_length, df.petal_width)])\n",
    "    accuracy = sum(df.species == predictions) / len(df)\n",
    "    print(f\"Accuracy: {accuracy}\")\n",
    "\n",
    "show_accuracy()"
   ]
  },
  {
   "cell_type": "code",
   "execution_count": null,
   "id": "a85e1005",
   "metadata": {
    "id": "a85e1005"
   },
   "outputs": [],
   "source": []
  }
 ],
 "metadata": {
  "colab": {
   "provenance": []
  },
  "kernelspec": {
   "display_name": "Python 3 (ipykernel)",
   "language": "python",
   "name": "python3"
  },
  "language_info": {
   "codemirror_mode": {
    "name": "ipython",
    "version": 3
   },
   "file_extension": ".py",
   "mimetype": "text/x-python",
   "name": "python",
   "nbconvert_exporter": "python",
   "pygments_lexer": "ipython3",
   "version": "3.11.4"
  },
  "toc": {
   "base_numbering": 1,
   "nav_menu": {},
   "number_sections": true,
   "sideBar": true,
   "skip_h1_title": false,
   "title_cell": "Table of Contents",
   "title_sidebar": "Contents",
   "toc_cell": false,
   "toc_position": {},
   "toc_section_display": true,
   "toc_window_display": false
  }
 },
 "nbformat": 4,
 "nbformat_minor": 5
}
