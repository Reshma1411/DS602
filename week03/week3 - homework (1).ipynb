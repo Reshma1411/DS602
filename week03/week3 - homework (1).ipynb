{
 "cells": [
  {
   "cell_type": "markdown",
   "id": "92665e74",
   "metadata": {
    "id": "92665e74"
   },
   "source": [
    "# Week3 - Homework\n",
    "\n",
    "Write a rule based predictor for the dataset below.\n",
    "\n",
    "Choose one of the following datasets and do your EDA.\n",
    "Test your assumptions.\n",
    "\n",
    "Finally write your code in `predict_one` function.\n",
    "\n",
    "Do __NOT__ change the function signature! This function should only take name and return `F` or `M`"
   ]
  },
  {
   "cell_type": "code",
   "execution_count": 11,
   "id": "71cb00e3",
   "metadata": {
    "colab": {
     "base_uri": "https://localhost:8080/"
    },
    "executionInfo": {
     "elapsed": 771,
     "status": "ok",
     "timestamp": 1707518840146,
     "user": {
      "displayName": "Mehmet Sarica",
      "userId": "16793427156829347948"
     },
     "user_tz": 300
    },
    "id": "71cb00e3",
    "outputId": "42cbd6af-dbee-4380-841f-07acecdf1317",
    "scrolled": true
   },
   "outputs": [
    {
     "name": "stdout",
     "output_type": "stream",
     "text": [
      "<class 'pandas.core.frame.DataFrame'>\n",
      "Int64Index: 27999 entries, 0 to 27999\n",
      "Data columns (total 2 columns):\n",
      " #   Column  Non-Null Count  Dtype \n",
      "---  ------  --------------  ----- \n",
      " 0   name    27999 non-null  object\n",
      " 1   gender  27999 non-null  object\n",
      "dtypes: object(2)\n",
      "memory usage: 656.2+ KB\n"
     ]
    }
   ],
   "source": [
    "import pandas as pd\n",
    "import numpy as np\n",
    "from matplotlib import pyplot as plt\n",
    "\n",
    "us_names = 'https://raw.githubusercontent.com/msaricaumbc/DS_data/master/ds602/names/us_names.csv'\n",
    "#in_names = 'https://raw.githubusercontent.com/msaricaumbc/DS_data/master/ds602/names/in_names.csv'\n",
    "\n",
    "df = pd.read_csv(us_names)\n",
    "df.dropna(inplace=True)\n",
    "df.info()"
   ]
  },
  {
   "cell_type": "code",
   "execution_count": 24,
   "id": "24d73119",
   "metadata": {},
   "outputs": [
    {
     "data": {
      "text/html": [
       "<div>\n",
       "<style scoped>\n",
       "    .dataframe tbody tr th:only-of-type {\n",
       "        vertical-align: middle;\n",
       "    }\n",
       "\n",
       "    .dataframe tbody tr th {\n",
       "        vertical-align: top;\n",
       "    }\n",
       "\n",
       "    .dataframe thead th {\n",
       "        text-align: right;\n",
       "    }\n",
       "</style>\n",
       "<table border=\"1\" class=\"dataframe\">\n",
       "  <thead>\n",
       "    <tr style=\"text-align: right;\">\n",
       "      <th></th>\n",
       "      <th>name</th>\n",
       "      <th>gender</th>\n",
       "    </tr>\n",
       "  </thead>\n",
       "  <tbody>\n",
       "    <tr>\n",
       "      <th>0</th>\n",
       "      <td>jerilynn</td>\n",
       "      <td>F</td>\n",
       "    </tr>\n",
       "    <tr>\n",
       "      <th>1</th>\n",
       "      <td>percy</td>\n",
       "      <td>M</td>\n",
       "    </tr>\n",
       "    <tr>\n",
       "      <th>2</th>\n",
       "      <td>landry</td>\n",
       "      <td>M</td>\n",
       "    </tr>\n",
       "    <tr>\n",
       "      <th>3</th>\n",
       "      <td>reynalda</td>\n",
       "      <td>F</td>\n",
       "    </tr>\n",
       "    <tr>\n",
       "      <th>4</th>\n",
       "      <td>girl</td>\n",
       "      <td>F</td>\n",
       "    </tr>\n",
       "    <tr>\n",
       "      <th>...</th>\n",
       "      <td>...</td>\n",
       "      <td>...</td>\n",
       "    </tr>\n",
       "    <tr>\n",
       "      <th>395</th>\n",
       "      <td>blessing</td>\n",
       "      <td>M</td>\n",
       "    </tr>\n",
       "    <tr>\n",
       "      <th>396</th>\n",
       "      <td>kevonte</td>\n",
       "      <td>M</td>\n",
       "    </tr>\n",
       "    <tr>\n",
       "      <th>397</th>\n",
       "      <td>azhar</td>\n",
       "      <td>F</td>\n",
       "    </tr>\n",
       "    <tr>\n",
       "      <th>398</th>\n",
       "      <td>tramika</td>\n",
       "      <td>F</td>\n",
       "    </tr>\n",
       "    <tr>\n",
       "      <th>399</th>\n",
       "      <td>alain</td>\n",
       "      <td>M</td>\n",
       "    </tr>\n",
       "  </tbody>\n",
       "</table>\n",
       "<p>400 rows × 2 columns</p>\n",
       "</div>"
      ],
      "text/plain": [
       "         name gender\n",
       "0    jerilynn      F\n",
       "1       percy      M\n",
       "2      landry      M\n",
       "3    reynalda      F\n",
       "4        girl      F\n",
       "..        ...    ...\n",
       "395  blessing      M\n",
       "396   kevonte      M\n",
       "397     azhar      F\n",
       "398   tramika      F\n",
       "399     alain      M\n",
       "\n",
       "[400 rows x 2 columns]"
      ]
     },
     "execution_count": 24,
     "metadata": {},
     "output_type": "execute_result"
    }
   ],
   "source": [
    "df.head(400)"
   ]
  },
  {
   "cell_type": "code",
   "execution_count": null,
   "id": "ed8ec0b2",
   "metadata": {},
   "outputs": [],
   "source": []
  },
  {
   "cell_type": "code",
   "execution_count": 2,
   "id": "03ad628a",
   "metadata": {
    "colab": {
     "base_uri": "https://localhost:8080/"
    },
    "executionInfo": {
     "elapsed": 108,
     "status": "ok",
     "timestamp": 1707518840831,
     "user": {
      "displayName": "Mehmet Sarica",
      "userId": "16793427156829347948"
     },
     "user_tz": 300
    },
    "id": "03ad628a",
    "outputId": "3cdc2e58-e16f-4fd0-8638-45c56754dc6c"
   },
   "outputs": [
    {
     "data": {
      "text/plain": [
       "M    14000\n",
       "F    13999\n",
       "Name: gender, dtype: int64"
      ]
     },
     "execution_count": 2,
     "metadata": {},
     "output_type": "execute_result"
    }
   ],
   "source": [
    "df.gender.value_counts()"
   ]
  },
  {
   "cell_type": "markdown",
   "id": "8c95c921",
   "metadata": {
    "id": "8c95c921"
   },
   "source": [
    "### Two examples:"
   ]
  },
  {
   "cell_type": "code",
   "execution_count": 3,
   "id": "88d552f1",
   "metadata": {
    "executionInfo": {
     "elapsed": 122,
     "status": "ok",
     "timestamp": 1707518843408,
     "user": {
      "displayName": "Mehmet Sarica",
      "userId": "16793427156829347948"
     },
     "user_tz": 300
    },
    "id": "88d552f1"
   },
   "outputs": [],
   "source": [
    "df['is_last_letter_vowel'] = [ 'aeiou'.find(name[-1])>0 for name in df.name]"
   ]
  },
  {
   "cell_type": "code",
   "execution_count": 4,
   "id": "50fcd092",
   "metadata": {
    "colab": {
     "base_uri": "https://localhost:8080/",
     "height": 468
    },
    "executionInfo": {
     "elapsed": 1646,
     "status": "ok",
     "timestamp": 1707518845421,
     "user": {
      "displayName": "Mehmet Sarica",
      "userId": "16793427156829347948"
     },
     "user_tz": 300
    },
    "id": "50fcd092",
    "outputId": "f7b99c97-4635-4287-e99f-e44b71227276"
   },
   "outputs": [
    {
     "data": {
      "text/plain": [
       "<Axes: xlabel='is_last_letter_vowel', ylabel='count'>"
      ]
     },
     "execution_count": 4,
     "metadata": {},
     "output_type": "execute_result"
    },
    {
     "data": {
      "image/png": "[encoded data removed]",
      "text/plain": [
       "<Figure size 640x480 with 1 Axes>"
      ]
     },
     "metadata": {},
     "output_type": "display_data"
    }
   ],
   "source": [
    "import seaborn as sns\n",
    "\n",
    "sns.countplot(data = df, x = 'is_last_letter_vowel', hue = 'gender')"
   ]
  },
  {
   "cell_type": "markdown",
   "id": "1f8e6476",
   "metadata": {
    "id": "1f8e6476"
   },
   "source": [
    "It looks like last letter is being a vowel is not a good indicator for this dataset!"
   ]
  },
  {
   "cell_type": "code",
   "execution_count": 5,
   "id": "0822aff7",
   "metadata": {
    "colab": {
     "base_uri": "https://localhost:8080/",
     "height": 467
    },
    "executionInfo": {
     "elapsed": 561,
     "status": "ok",
     "timestamp": 1707518845981,
     "user": {
      "displayName": "Mehmet Sarica",
      "userId": "16793427156829347948"
     },
     "user_tz": 300
    },
    "id": "0822aff7",
    "outputId": "d0c83add-f699-43b2-8d5b-2c3667e3a830"
   },
   "outputs": [
    {
     "data": {
      "text/plain": [
       "<Axes: xlabel='len', ylabel='count'>"
      ]
     },
     "execution_count": 5,
     "metadata": {},
     "output_type": "execute_result"
    },
    {
     "data": {
      "image/png": "[encoded data removed]",
      "text/plain": [
       "<Figure size 640x480 with 1 Axes>"
      ]
     },
     "metadata": {},
     "output_type": "display_data"
    }
   ],
   "source": [
    "df['len'] = [ len(name) for name in df.name]\n",
    "sns.countplot(data = df, x = 'len', hue = 'gender')"
   ]
  },
  {
   "cell_type": "markdown",
   "id": "b036375f",
   "metadata": {
    "id": "b036375f"
   },
   "source": [
    "Seems like length doesn't also seem like a good separator"
   ]
  },
  {
   "cell_type": "code",
   "execution_count": 52,
   "id": "3cfc4e5c",
   "metadata": {
    "colab": {
     "base_uri": "https://localhost:8080/"
    },
    "executionInfo": {
     "elapsed": 3,
     "status": "ok",
     "timestamp": 1707518845981,
     "user": {
      "displayName": "Mehmet Sarica",
      "userId": "16793427156829347948"
     },
     "user_tz": 300
    },
    "id": "3cfc4e5c",
    "outputId": "0195f178-07d2-4551-f700-37b387a3194b"
   },
   "outputs": [
    {
     "name": "stdout",
     "output_type": "stream",
     "text": [
      "M F\n"
     ]
    }
   ],
   "source": [
    "def predict_one(name): # DON'T CHANGE THIS LINE\n",
    "    # your code\n",
    "    if ( len(name)>4 and name[-1] in  ['a', 'e' ,'i','y','h'] ):\n",
    "        return 'F'\n",
    "    else:\n",
    "        return 'M'\n",
    "# Examples\n",
    "example1=(predict_one('inge'))\n",
    "example2=(predict_one('shalise'))\n",
    "print(example1,example2)\n",
    "   \n"
   ]
  },
  {
   "cell_type": "code",
   "execution_count": 53,
   "id": "3889bd65",
   "metadata": {
    "colab": {
     "base_uri": "https://localhost:8080/"
    },
    "executionInfo": {
     "elapsed": 102,
     "status": "ok",
     "timestamp": 1707518846641,
     "user": {
      "displayName": "Mehmet Sarica",
      "userId": "16793427156829347948"
     },
     "user_tz": 300
    },
    "id": "3889bd65",
    "outputId": "646c3a1c-ac7e-4fea-b54a-7bead7943ddd"
   },
   "outputs": [
    {
     "name": "stdout",
     "output_type": "stream",
     "text": [
      "Accuracy: 0.73231186828101\n"
     ]
    }
   ],
   "source": [
    "predictions = [ predict_one(name) for name in df.name]\n",
    "accuracy = sum(df.gender == predictions) / len(df)\n",
    "print(f\"Accuracy: {accuracy}\")"
   ]
  },
  {
   "cell_type": "code",
   "execution_count": null,
   "id": "821578a5",
   "metadata": {
    "id": "821578a5"
   },
   "outputs": [],
   "source": []
  },
  {
   "cell_type": "code",
   "execution_count": null,
   "id": "40d45368",
   "metadata": {},
   "outputs": [],
   "source": []
  }
 ],
 "metadata": {
  "colab": {
   "provenance": []
  },
  "kernelspec": {
   "display_name": "Python 3 (ipykernel)",
   "language": "python",
   "name": "python3"
  },
  "language_info": {
   "codemirror_mode": {
    "name": "ipython",
    "version": 3
   },
   "file_extension": ".py",
   "mimetype": "text/x-python",
   "name": "python",
   "nbconvert_exporter": "python",
   "pygments_lexer": "ipython3",
   "version": "3.11.4"
  },
  "toc": {
   "base_numbering": 1,
   "nav_menu": {},
   "number_sections": true,
   "sideBar": true,
   "skip_h1_title": false,
   "title_cell": "Table of Contents",
   "title_sidebar": "Contents",
   "toc_cell": false,
   "toc_position": {},
   "toc_section_display": true,
   "toc_window_display": false
  }
 },
 "nbformat": 4,
 "nbformat_minor": 5
}
