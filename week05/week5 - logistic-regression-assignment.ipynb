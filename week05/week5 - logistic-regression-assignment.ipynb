{
 "cells": [
  {
   "cell_type": "markdown",
   "metadata": {},
   "source": [
    "# Week5 - Logistic Regression Assignment\n",
    "\n",
    "- Run the below cells.\n",
    "- Complete all of the numbered questions. You may call any packages that we've used in class.  "
   ]
  },
  {
   "cell_type": "code",
   "execution_count": 1,
   "metadata": {},
   "outputs": [],
   "source": [
    "import pandas as pd\n",
    "import numpy as np\n",
    "import matplotlib.pyplot as plt\n",
    "%matplotlib inline\n",
    "\n",
    "df = pd.read_csv('https://raw.githubusercontent.com/msaricaumbc/DS_data/master/ds602/classification/loan_status_data/loan_status.csv')"
   ]
  },
  {
   "cell_type": "markdown",
   "metadata": {},
   "source": [
    "## Data Definitions\n",
    "\n",
    "<ul>\n",
    "<li><strong>Loan_ID</strong>: A unique loan ID.</li>\n",
    "<li><strong>Gender</strong>: Either male or female.</li>\n",
    "<li><strong>Married</strong>: Weather Married(yes) or Not Marttied(No).</li>\n",
    "<li><strong>Dependents</strong>: Number of persons depending on the client.</li>\n",
    "<li><strong>Education</strong>: Applicant Education(Graduate or Undergraduate).</li>\n",
    "<li><strong>Self_Employed</strong>: Self-employed (Yes/No).</li>\n",
    "<li><strong>ApplicantIncome</strong>: Applicant income.</li>\n",
    "<li><strong>CoapplicantIncome</strong>: Co-applicant income.</li>\n",
    "<li><strong>LoanAmount</strong>: Loan amount in thousands.</li>\n",
    "<li><strong>Loan_Amount_Term</strong>: Terms of the loan in months.</li>\n",
    "<li><strong>Credit_History</strong>: Credit history meets guidelines.</li>\n",
    "<li><strong>Property_Area</strong>: Applicants are living either Urban, Semi-Urban or Rural.</li>\n",
    "<li><strong>Loan_Status</strong>: Loan approved (Y/N).</li>\n",
    "</ul>"
   ]
  },
  {
   "cell_type": "code",
   "execution_count": 2,
   "metadata": {},
   "outputs": [
    {
     "data": {
      "text/html": [
       "<div>\n",
       "<style scoped>\n",
       "    .dataframe tbody tr th:only-of-type {\n",
       "        vertical-align: middle;\n",
       "    }\n",
       "\n",
       "    .dataframe tbody tr th {\n",
       "        vertical-align: top;\n",
       "    }\n",
       "\n",
       "    .dataframe thead th {\n",
       "        text-align: right;\n",
       "    }\n",
       "</style>\n",
       "<table border=\"1\" class=\"dataframe\">\n",
       "  <thead>\n",
       "    <tr style=\"text-align: right;\">\n",
       "      <th></th>\n",
       "      <th>Loan_ID</th>\n",
       "      <th>Gender</th>\n",
       "      <th>Married</th>\n",
       "      <th>Dependents</th>\n",
       "      <th>Education</th>\n",
       "      <th>Self_Employed</th>\n",
       "      <th>ApplicantIncome</th>\n",
       "      <th>CoapplicantIncome</th>\n",
       "      <th>LoanAmount</th>\n",
       "      <th>Loan_Amount_Term</th>\n",
       "      <th>Credit_History</th>\n",
       "      <th>Property_Area</th>\n",
       "      <th>Loan_Status</th>\n",
       "    </tr>\n",
       "  </thead>\n",
       "  <tbody>\n",
       "    <tr>\n",
       "      <th>0</th>\n",
       "      <td>LP001003</td>\n",
       "      <td>Male</td>\n",
       "      <td>Yes</td>\n",
       "      <td>1</td>\n",
       "      <td>Graduate</td>\n",
       "      <td>No</td>\n",
       "      <td>4583</td>\n",
       "      <td>1508.0</td>\n",
       "      <td>128.0</td>\n",
       "      <td>360.0</td>\n",
       "      <td>1.0</td>\n",
       "      <td>Rural</td>\n",
       "      <td>N</td>\n",
       "    </tr>\n",
       "    <tr>\n",
       "      <th>1</th>\n",
       "      <td>LP001005</td>\n",
       "      <td>Male</td>\n",
       "      <td>Yes</td>\n",
       "      <td>0</td>\n",
       "      <td>Graduate</td>\n",
       "      <td>Yes</td>\n",
       "      <td>3000</td>\n",
       "      <td>0.0</td>\n",
       "      <td>66.0</td>\n",
       "      <td>360.0</td>\n",
       "      <td>1.0</td>\n",
       "      <td>Urban</td>\n",
       "      <td>Y</td>\n",
       "    </tr>\n",
       "    <tr>\n",
       "      <th>2</th>\n",
       "      <td>LP001006</td>\n",
       "      <td>Male</td>\n",
       "      <td>Yes</td>\n",
       "      <td>0</td>\n",
       "      <td>Not Graduate</td>\n",
       "      <td>No</td>\n",
       "      <td>2583</td>\n",
       "      <td>2358.0</td>\n",
       "      <td>120.0</td>\n",
       "      <td>360.0</td>\n",
       "      <td>1.0</td>\n",
       "      <td>Urban</td>\n",
       "      <td>Y</td>\n",
       "    </tr>\n",
       "    <tr>\n",
       "      <th>3</th>\n",
       "      <td>LP001008</td>\n",
       "      <td>Male</td>\n",
       "      <td>No</td>\n",
       "      <td>0</td>\n",
       "      <td>Graduate</td>\n",
       "      <td>No</td>\n",
       "      <td>6000</td>\n",
       "      <td>0.0</td>\n",
       "      <td>141.0</td>\n",
       "      <td>360.0</td>\n",
       "      <td>1.0</td>\n",
       "      <td>Urban</td>\n",
       "      <td>Y</td>\n",
       "    </tr>\n",
       "    <tr>\n",
       "      <th>4</th>\n",
       "      <td>LP001013</td>\n",
       "      <td>Male</td>\n",
       "      <td>Yes</td>\n",
       "      <td>0</td>\n",
       "      <td>Not Graduate</td>\n",
       "      <td>No</td>\n",
       "      <td>2333</td>\n",
       "      <td>1516.0</td>\n",
       "      <td>95.0</td>\n",
       "      <td>360.0</td>\n",
       "      <td>1.0</td>\n",
       "      <td>Urban</td>\n",
       "      <td>Y</td>\n",
       "    </tr>\n",
       "  </tbody>\n",
       "</table>\n",
       "</div>"
      ],
      "text/plain": [
       "    Loan_ID Gender Married Dependents     Education Self_Employed  \\\n",
       "0  LP001003   Male     Yes          1      Graduate            No   \n",
       "1  LP001005   Male     Yes          0      Graduate           Yes   \n",
       "2  LP001006   Male     Yes          0  Not Graduate            No   \n",
       "3  LP001008   Male      No          0      Graduate            No   \n",
       "4  LP001013   Male     Yes          0  Not Graduate            No   \n",
       "\n",
       "   ApplicantIncome  CoapplicantIncome  LoanAmount  Loan_Amount_Term  \\\n",
       "0             4583             1508.0       128.0             360.0   \n",
       "1             3000                0.0        66.0             360.0   \n",
       "2             2583             2358.0       120.0             360.0   \n",
       "3             6000                0.0       141.0             360.0   \n",
       "4             2333             1516.0        95.0             360.0   \n",
       "\n",
       "   Credit_History Property_Area Loan_Status  \n",
       "0             1.0         Rural           N  \n",
       "1             1.0         Urban           Y  \n",
       "2             1.0         Urban           Y  \n",
       "3             1.0         Urban           Y  \n",
       "4             1.0         Urban           Y  "
      ]
     },
     "execution_count": 2,
     "metadata": {},
     "output_type": "execute_result"
    }
   ],
   "source": [
    "df.head()"
   ]
  },
  {
   "cell_type": "code",
   "execution_count": 3,
   "metadata": {},
   "outputs": [
    {
     "name": "stdout",
     "output_type": "stream",
     "text": [
      "<class 'pandas.core.frame.DataFrame'>\n",
      "RangeIndex: 381 entries, 0 to 380\n",
      "Data columns (total 13 columns):\n",
      " #   Column             Non-Null Count  Dtype  \n",
      "---  ------             --------------  -----  \n",
      " 0   Loan_ID            381 non-null    object \n",
      " 1   Gender             376 non-null    object \n",
      " 2   Married            381 non-null    object \n",
      " 3   Dependents         373 non-null    object \n",
      " 4   Education          381 non-null    object \n",
      " 5   Self_Employed      360 non-null    object \n",
      " 6   ApplicantIncome    381 non-null    int64  \n",
      " 7   CoapplicantIncome  381 non-null    float64\n",
      " 8   LoanAmount         381 non-null    float64\n",
      " 9   Loan_Amount_Term   370 non-null    float64\n",
      " 10  Credit_History     351 non-null    float64\n",
      " 11  Property_Area      381 non-null    object \n",
      " 12  Loan_Status        381 non-null    object \n",
      "dtypes: float64(4), int64(1), object(8)\n",
      "memory usage: 38.8+ KB\n"
     ]
    }
   ],
   "source": [
    "df.info()"
   ]
  },
  {
   "cell_type": "code",
   "execution_count": 4,
   "metadata": {},
   "outputs": [
    {
     "data": {
      "text/plain": [
       "Loan_ID   Gender  Married  Dependents  Education     Self_Employed  ApplicantIncome  CoapplicantIncome  LoanAmount  Loan_Amount_Term  Credit_History  Property_Area  Loan_Status\n",
       "LP001003  Male    Yes      1           Graduate      No             4583             1508.0             128.0       360.0             1.0             Rural          N              1\n",
       "LP002288  Male    Yes      2           Not Graduate  No             2889             0.0                45.0        180.0             0.0             Urban          N              1\n",
       "LP002318  Female  No       1           Not Graduate  Yes            3867             0.0                62.0        360.0             1.0             Semiurban      N              1\n",
       "Name: count, dtype: int64"
      ]
     },
     "execution_count": 4,
     "metadata": {},
     "output_type": "execute_result"
    }
   ],
   "source": [
    "df.value_counts().head(3)"
   ]
  },
  {
   "cell_type": "code",
   "execution_count": 5,
   "metadata": {},
   "outputs": [
    {
     "data": {
      "text/html": [
       "<div>\n",
       "<style scoped>\n",
       "    .dataframe tbody tr th:only-of-type {\n",
       "        vertical-align: middle;\n",
       "    }\n",
       "\n",
       "    .dataframe tbody tr th {\n",
       "        vertical-align: top;\n",
       "    }\n",
       "\n",
       "    .dataframe thead th {\n",
       "        text-align: right;\n",
       "    }\n",
       "</style>\n",
       "<table border=\"1\" class=\"dataframe\">\n",
       "  <thead>\n",
       "    <tr style=\"text-align: right;\">\n",
       "      <th></th>\n",
       "      <th>ApplicantIncome</th>\n",
       "      <th>CoapplicantIncome</th>\n",
       "      <th>LoanAmount</th>\n",
       "      <th>Loan_Amount_Term</th>\n",
       "      <th>Credit_History</th>\n",
       "    </tr>\n",
       "  </thead>\n",
       "  <tbody>\n",
       "    <tr>\n",
       "      <th>count</th>\n",
       "      <td>381.000000</td>\n",
       "      <td>381.000000</td>\n",
       "      <td>381.000000</td>\n",
       "      <td>370.000000</td>\n",
       "      <td>351.000000</td>\n",
       "    </tr>\n",
       "    <tr>\n",
       "      <th>mean</th>\n",
       "      <td>3579.845144</td>\n",
       "      <td>1277.275381</td>\n",
       "      <td>104.986877</td>\n",
       "      <td>340.864865</td>\n",
       "      <td>0.837607</td>\n",
       "    </tr>\n",
       "    <tr>\n",
       "      <th>std</th>\n",
       "      <td>1419.813818</td>\n",
       "      <td>2340.818114</td>\n",
       "      <td>28.358464</td>\n",
       "      <td>68.549257</td>\n",
       "      <td>0.369338</td>\n",
       "    </tr>\n",
       "    <tr>\n",
       "      <th>min</th>\n",
       "      <td>150.000000</td>\n",
       "      <td>0.000000</td>\n",
       "      <td>9.000000</td>\n",
       "      <td>12.000000</td>\n",
       "      <td>0.000000</td>\n",
       "    </tr>\n",
       "    <tr>\n",
       "      <th>25%</th>\n",
       "      <td>2600.000000</td>\n",
       "      <td>0.000000</td>\n",
       "      <td>90.000000</td>\n",
       "      <td>360.000000</td>\n",
       "      <td>1.000000</td>\n",
       "    </tr>\n",
       "    <tr>\n",
       "      <th>50%</th>\n",
       "      <td>3333.000000</td>\n",
       "      <td>983.000000</td>\n",
       "      <td>110.000000</td>\n",
       "      <td>360.000000</td>\n",
       "      <td>1.000000</td>\n",
       "    </tr>\n",
       "    <tr>\n",
       "      <th>75%</th>\n",
       "      <td>4288.000000</td>\n",
       "      <td>2016.000000</td>\n",
       "      <td>127.000000</td>\n",
       "      <td>360.000000</td>\n",
       "      <td>1.000000</td>\n",
       "    </tr>\n",
       "    <tr>\n",
       "      <th>max</th>\n",
       "      <td>9703.000000</td>\n",
       "      <td>33837.000000</td>\n",
       "      <td>150.000000</td>\n",
       "      <td>480.000000</td>\n",
       "      <td>1.000000</td>\n",
       "    </tr>\n",
       "  </tbody>\n",
       "</table>\n",
       "</div>"
      ],
      "text/plain": [
       "       ApplicantIncome  CoapplicantIncome  LoanAmount  Loan_Amount_Term  \\\n",
       "count       381.000000         381.000000  381.000000        370.000000   \n",
       "mean       3579.845144        1277.275381  104.986877        340.864865   \n",
       "std        1419.813818        2340.818114   28.358464         68.549257   \n",
       "min         150.000000           0.000000    9.000000         12.000000   \n",
       "25%        2600.000000           0.000000   90.000000        360.000000   \n",
       "50%        3333.000000         983.000000  110.000000        360.000000   \n",
       "75%        4288.000000        2016.000000  127.000000        360.000000   \n",
       "max        9703.000000       33837.000000  150.000000        480.000000   \n",
       "\n",
       "       Credit_History  \n",
       "count      351.000000  \n",
       "mean         0.837607  \n",
       "std          0.369338  \n",
       "min          0.000000  \n",
       "25%          1.000000  \n",
       "50%          1.000000  \n",
       "75%          1.000000  \n",
       "max          1.000000  "
      ]
     },
     "execution_count": 5,
     "metadata": {},
     "output_type": "execute_result"
    }
   ],
   "source": [
    "df.describe()"
   ]
  },
  {
   "cell_type": "markdown",
   "metadata": {},
   "source": [
    "# Question 1\n",
    "- Any data quality issues/concerns? \n",
    "- Any clean up needed?"
   ]
  },
  {
   "cell_type": "markdown",
   "metadata": {},
   "source": [
    "Insert comments here"
   ]
  },
  {
   "cell_type": "code",
   "execution_count": 23,
   "metadata": {},
   "outputs": [
    {
     "data": {
      "text/plain": [
       "Loan_ID               0\n",
       "Gender                0\n",
       "Married               0\n",
       "Dependents            0\n",
       "Education             0\n",
       "Self_Employed         0\n",
       "ApplicantIncome       0\n",
       "CoapplicantIncome     0\n",
       "LoanAmount            0\n",
       "Loan_Amount_Term      9\n",
       "Credit_History       30\n",
       "Property_Area         0\n",
       "Loan_Status           0\n",
       "dtype: int64"
      ]
     },
     "execution_count": 23,
     "metadata": {},
     "output_type": "execute_result"
    }
   ],
   "source": [
    "# code  \n",
    "df.isnull().sum()"
   ]
  },
  {
   "cell_type": "markdown",
   "metadata": {},
   "source": [
    "we could see that data is missing ,so iam filling it up using mean meathod"
   ]
  },
  {
   "cell_type": "code",
   "execution_count": 24,
   "metadata": {},
   "outputs": [
    {
     "ename": "TypeError",
     "evalue": "Could not convert ['LP001003LP001005LP001006LP001008LP001013LP001024LP001029LP001030LP001032LP001034LP001036LP001038LP001043LP001047LP001068LP001073LP001086LP001095LP001097LP001098LP001109LP001112LP001116LP001119LP001120LP001123LP001131LP001136LP001137LP001138LP001144LP001146LP001151LP001155LP001157LP001164LP001179LP001194LP001195LP001197LP001199LP001205LP001206LP001222LP001228LP001238LP001241LP001245LP001248LP001250LP001255LP001259LP001264LP001265LP001275LP001279LP001280LP001282LP001316LP001319LP001322LP001325LP001327LP001333LP001334LP001343LP001345LP001367LP001384LP001385LP001405LP001430LP001431LP001432LP001443LP001473LP001478LP001482LP001487LP001489LP001491LP001493LP001507LP001514LP001518LP001520LP001528LP001532LP001535LP001560LP001565LP001572LP001577LP001578LP001579LP001586LP001603LP001606LP001608LP001616LP001630LP001634LP001636LP001639LP001641LP001643LP001653LP001658LP001664LP001669LP001671LP001674LP001688LP001691LP001692LP001693LP001698LP001699LP001702LP001711LP001715LP001716LP001720LP001722LP001726LP001734LP001736LP001743LP001744LP001750LP001765LP001770LP001778LP001788LP001790LP001792LP001798LP001800LP001807LP001811LP001813LP001814LP001819LP001824LP001825LP001836LP001841LP001849LP001854LP001864LP001868LP001871LP001872LP001877LP001884LP001888LP001892LP001894LP001896LP001900LP001904LP001908LP001914LP001915LP001917LP001924LP001925LP001926LP001931LP001936LP001938LP001940LP001954LP001963LP001964LP001974LP001977LP001978LP001993LP001994LP002002LP002004LP002006LP002008LP002031LP002035LP002036LP002043LP002051LP002053LP002055LP002068LP002086LP002087LP002097LP002098LP002114LP002116LP002126LP002131LP002141LP002142LP002143LP002151LP002158LP002161LP002175LP002178LP002180LP002181LP002187LP002188LP002205LP002211LP002219LP002223LP002224LP002225LP002234LP002236LP002239LP002244LP002250LP002263LP002265LP002266LP002272LP002277LP002281LP002284LP002287LP002288LP002296LP002297LP002300LP002305LP002308LP002314LP002318LP002332LP002337LP002345LP002347LP002348LP002357LP002361LP002362LP002366LP002367LP002368LP002369LP002370LP002377LP002379LP002387LP002390LP002398LP002407LP002418LP002429LP002434LP002443LP002446LP002447LP002448LP002449LP002453LP002455LP002459LP002472LP002484LP002493LP002494LP002500LP002505LP002517LP002519LP002522LP002536LP002537LP002544LP002545LP002556LP002560LP002571LP002585LP002586LP002587LP002588LP002600LP002603LP002606LP002618LP002619LP002637LP002643LP002648LP002659LP002670LP002684LP002689LP002690LP002692LP002705LP002714LP002716LP002720LP002723LP002738LP002739LP002741LP002743LP002755LP002757LP002768LP002772LP002776LP002777LP002789LP002792LP002794LP002807LP002821LP002833LP002836LP002837LP002840LP002841LP002863LP002868LP002874LP002877LP002893LP002894LP002898LP002911LP002916LP002917LP002926LP002928LP002936LP002940LP002953LP002974LP002978LP002979LP002990'\n 'MaleMaleMaleMaleMaleMaleMaleMaleMaleMaleFemaleMaleMaleMaleMaleMaleMaleMaleMaleMaleMaleFemaleMaleMaleMaleMaleMaleMaleFemaleMaleMaleFemaleFemaleFemaleFemaleFemaleMaleMaleMaleMaleMaleMaleMaleFemaleMaleMaleFemaleMaleMaleMaleMaleMaleMaleFemaleMaleMaleMaleMaleMaleMaleMaleMaleFemaleMaleMaleMaleMaleMaleMaleMaleMaleFemaleFemaleMaleFemaleMaleMaleMaleMaleFemaleMaleMaleMaleFemaleMaleMaleMaleMaleMaleMaleMaleMaleFemaleMaleMaleMaleMaleMaleMaleMaleMaleMaleMaleFemaleMaleMaleMaleMaleMaleFemaleFemaleMaleMaleMaleFemaleFemaleMaleMaleMaleMaleMaleMaleMaleMaleMaleFemaleMaleMaleMaleMaleMaleMaleMaleFemaleFemaleMaleMaleMaleMaleMaleMaleMaleMaleMaleMaleFemaleMaleMaleMaleMaleMaleFemaleMaleMaleFemaleFemaleMaleMaleMaleMaleMaleFemaleMaleMaleFemaleMaleFemaleMaleFemaleMaleMaleMaleFemaleMaleMaleFemaleMaleMaleFemaleFemaleFemaleMaleFemaleMaleMaleMaleMaleFemaleMaleMaleFemaleMaleFemaleFemaleMaleMaleFemaleFemaleMaleMaleMaleFemaleFemaleMaleMaleFemaleMaleMaleMaleMaleMaleMaleMaleMaleMaleMaleMaleMaleMaleMaleMaleMaleMaleMaleMaleMaleMaleFemaleMaleMaleFemaleMaleMaleMaleFemaleFemaleMaleFemaleFemaleMaleFemaleMaleMaleMaleFemaleMaleMaleMaleFemaleMaleMaleMaleFemaleMaleMaleMaleMaleFemaleMaleMaleMaleMaleMaleMaleMaleMaleMaleMaleMaleMaleMaleMaleMaleMaleMaleMaleMaleFemaleMaleMaleMaleMaleMaleMaleMaleMaleFemaleMaleMaleMaleFemaleFemaleMaleMaleMaleMaleMaleMaleFemaleFemaleMaleMaleMaleMaleMaleMaleMaleMaleMaleMaleFemaleFemaleMaleFemaleMaleMaleFemaleMaleMaleMaleFemaleMaleMaleMaleMaleMaleFemaleMaleMaleMaleMaleMaleMaleFemaleMaleMaleMaleFemaleMaleMaleMaleMaleMaleMaleFemaleMaleFemale'\n 'YesYesYesNoYesYesNoYesNoNoNoYesYesYesYesYesNoNoNoYesYesYesNoNoNoYesYesYesNoYesYesYesNoYesNoNoYesYesYesYesYesYesYesNoNoYesNoYesNoYesNoYesYesNoYesNoYesYesYesYesNoNoYesYesYesYesYesYesYesNoYesNoNoYesNoNoNoYesNoYesYesYesYesYesYesYesNoYesNoYesYesYesYesYesNoYesYesYesYesYesNoNoYesYesYesYesNoNoNoNoYesYesYesYesNoNoNoNoNoYesYesYesYesYesYesYesYesYesNoYesYesNoYesNoNoYesYesYesYesYesNoYesYesYesYesNoNoNoYesYesNoNoNoYesNoNoNoYesYesYesYesYesYesYesNoNoNoYesNoYesYesYesYesYesYesNoYesNoNoNoNoNoNoYesYesYesYesNoYesYesNoNoYesNoNoNoNoNoYesYesYesYesYesYesYesNoYesYesNoNoNoNoNoYesYesYesNoYesNoYesNoYesYesYesYesYesYesNoYesNoNoYesNoNoNoNoYesNoNoYesNoYesYesYesNoYesYesYesNoYesYesNoNoNoYesNoNoYesNoYesYesYesYesYesYesYesNoYesYesNoYesNoNoYesYesYesYesNoYesYesYesNoNoNoNoYesYesYesYesYesNoNoYesYesNoYesYesYesYesNoYesNoYesYesNoNoYesNoNoYesYesNoYesYesNoNoNoYesYesYesNoYesNoYesNoYesNoYesYesYesNoYesNoYesYesYesYesNoYesYesYesNoYesYesNoYesNo'\n '1000020201000002001000000000010000002200203+003+0203+013+0102002000000213+010020000002200100200100003+002100001000000112000003+3+03+00202001010112120021102003+3+0002100021000200000022110010000002120103+000010003+23+00101000000103+00202000022200002000000100000001012001000003+122220002023+003+013+03+0120000100100100203+20203+0103+2201010000001020003+003+20100110020003+003+0'\n 'GraduateGraduateNot GraduateGraduateNot GraduateGraduateGraduateGraduateGraduateNot GraduateGraduateNot GraduateNot GraduateNot GraduateGraduateNot GraduateNot GraduateGraduateGraduateGraduateGraduateGraduateNot GraduateGraduateGraduateGraduateGraduateNot GraduateGraduateGraduateGraduateGraduateGraduateNot GraduateGraduateGraduateGraduateGraduateGraduateGraduateNot GraduateGraduateGraduateGraduateNot GraduateNot GraduateGraduateNot GraduateGraduateNot GraduateGraduateGraduateNot GraduateGraduateGraduateGraduateNot GraduateGraduateGraduateNot GraduateGraduateNot GraduateGraduateGraduateNot GraduateGraduateNot GraduateGraduateNot GraduateGraduateGraduateGraduateGraduateGraduateGraduateGraduateGraduateGraduateGraduateGraduateGraduateNot GraduateGraduateGraduateGraduateGraduateGraduateNot GraduateGraduateNot GraduateGraduateGraduateGraduateGraduateGraduateNot GraduateNot GraduateGraduateGraduateGraduateNot GraduateGraduateGraduateGraduateGraduateGraduateNot GraduateGraduateGraduateNot GraduateGraduateNot GraduateNot GraduateNot GraduateNot GraduateGraduateNot GraduateGraduateGraduateGraduateNot GraduateGraduateNot GraduateGraduateGraduateGraduateGraduateGraduateGraduateGraduateGraduateNot GraduateGraduateGraduateGraduateGraduateGraduateNot GraduateGraduateNot GraduateGraduateGraduateNot GraduateGraduateGraduateGraduateNot GraduateNot GraduateGraduateNot GraduateGraduateGraduateGraduateGraduateGraduateGraduateGraduateGraduateGraduateGraduateGraduateNot GraduateGraduateGraduateGraduateGraduateGraduateGraduateGraduateGraduateGraduateGraduateGraduateGraduateNot GraduateGraduateGraduateGraduateGraduateGraduateGraduateNot GraduateGraduateGraduateNot GraduateGraduateGraduateGraduateGraduateGraduateGraduateGraduateGraduateGraduateGraduateGraduateGraduateGraduateNot GraduateNot GraduateGraduateGraduateGraduateGraduateNot GraduateGraduateGraduateGraduateGraduateNot GraduateGraduateGraduateGraduateGraduateGraduateGraduateGraduateGraduateGraduateGraduateNot GraduateGraduateGraduateGraduateNot GraduateGraduateGraduateGraduateGraduateNot GraduateGraduateNot GraduateNot GraduateGraduateNot GraduateGraduateNot GraduateNot GraduateNot GraduateNot GraduateGraduateGraduateGraduateGraduateNot GraduateGraduateGraduateGraduateNot GraduateGraduateGraduateNot GraduateGraduateGraduateGraduateGraduateGraduateNot GraduateNot GraduateGraduateNot GraduateGraduateNot GraduateNot GraduateGraduateGraduateGraduateGraduateGraduateGraduateGraduateGraduateGraduateNot GraduateGraduateNot GraduateGraduateGraduateNot GraduateGraduateNot GraduateGraduateGraduateNot GraduateNot GraduateGraduateGraduateNot GraduateGraduateGraduateGraduateGraduateNot GraduateNot GraduateNot GraduateGraduateGraduateGraduateGraduateNot GraduateNot GraduateGraduateGraduateGraduateNot GraduateNot GraduateGraduateGraduateGraduateNot GraduateGraduateGraduateNot GraduateNot GraduateNot GraduateGraduateGraduateGraduateGraduateGraduateGraduateNot GraduateNot GraduateNot GraduateGraduateGraduateGraduateGraduateGraduateGraduateGraduateGraduateGraduateGraduateGraduateGraduateGraduateNot GraduateGraduateGraduateGraduateNot GraduateGraduateGraduateGraduateGraduateGraduate'\n 'NoYesNoNoNoNoNoNoNoNoNoNoNoNoNoNoNoNoYesNoNoNoNoNoNoNoNoYesNoNoNoNoNoNoNoNoNoNoNoNoNoNoNoNoNoYesNoYesNoNoNoYesYesNoNoNoNoNoNoNoNoNoNoNoNoNoNoNoNoNoNoNoNoNoNoNoNoYesNoNoYesNoNoNoNoNoNoNoNoNoNoNoNoNoNoNoYesNoNoNoNoNoNoNoYesNoNoNoNoNoNoNoNoNoNoNoNoNoNoNoYesNoNoNoNoNoNoNoNoNoNoNoNoYesNoNoNoNoYesNoYesNoNoNoNoNoYesNoNoNoNoNoYesNoNoNoNoNoNoNoNoNoNoNoNoNoYesNoNoNoNoNoNoNoNoNoNoNoNoNoNoNoNoYesNoNoNoNoNoNoNoNoNoNoNoNoNoNoNoNoNoYesNoNoNoNoNoNoYesNoNoNoNoNoNoNoNoNoYesNoNoNoNoNoNoNoNoNoNoNoNoNoNoNoNoNoNoNoYesNoNoNoNoNoNoNoNoNoNoNoNoNoYesNoNoNoNoYesNoYesNoNoNoNoNoNoYesNoNoNoNoNoNoNoNoNoNoYesNoNoNoNoNoNoNoNoNoNoNoYesNoNoNoNoNoNoNoNoNoNoNoNoYesNoNoNoNoNoNoNoNoNoNoNoNoNoNoNoNoNoNoNoYesNoNoNoNoNoNoNoNoNoNoNoNoNoNoNoYesNoNoNoNoNoNoNoYes'\n 'RuralUrbanUrbanUrbanUrbanUrbanRuralUrbanUrbanUrbanUrbanRuralUrbanSemiurbanSemiurbanUrbanUrbanUrbanRuralSemiurbanUrbanSemiurbanSemiurbanUrbanUrbanUrbanSemiurbanUrbanUrbanUrbanUrbanUrbanSemiurbanSemiurbanSemiurbanSemiurbanUrbanSemiurbanSemiurbanRuralUrbanUrbanUrbanSemiurbanUrbanUrbanSemiurbanSemiurbanSemiurbanSemiurbanUrbanUrbanSemiurbanSemiurbanUrbanSemiurbanSemiurbanSemiurbanSemiurbanUrbanSemiurbanSemiurbanSemiurbanSemiurbanSemiurbanSemiurbanUrbanUrbanSemiurbanUrbanUrbanSemiurbanSemiurbanSemiurbanRuralUrbanSemiurbanSemiurbanSemiurbanRuralUrbanRuralSemiurbanSemiurbanUrbanSemiurbanRuralRuralUrbanSemiurbanSemiurbanUrbanRuralRuralSemiurbanRuralSemiurbanRuralRuralSemiurbanUrbanRuralSemiurbanSemiurbanRuralRuralRuralSemiurbanRuralUrbanSemiurbanSemiurbanUrbanSemiurbanSemiurbanUrbanRuralUrbanSemiurbanSemiurbanRuralUrbanSemiurbanRuralSemiurbanSemiurbanUrbanSemiurbanSemiurbanSemiurbanSemiurbanRuralSemiurbanUrbanRuralSemiurbanRuralUrbanRuralSemiurbanUrbanUrbanUrbanSemiurbanUrbanUrbanRuralRuralUrbanSemiurbanSemiurbanRuralSemiurbanSemiurbanUrbanUrbanRuralSemiurbanSemiurbanSemiurbanUrbanRuralSemiurbanUrbanUrbanRuralSemiurbanRuralSemiurbanRuralSemiurbanUrbanUrbanUrbanUrbanRuralUrbanRuralRuralUrbanSemiurbanSemiurbanRuralRuralUrbanSemiurbanUrbanSemiurbanSemiurbanSemiurbanRuralRuralUrbanUrbanUrbanSemiurbanSemiurbanRuralSemiurbanUrbanRuralRuralSemiurbanUrbanUrbanSemiurbanUrbanUrbanRuralRuralSemiurbanRuralUrbanUrbanRuralSemiurbanUrbanUrbanUrbanUrbanSemiurbanUrbanRuralUrbanSemiurbanUrbanSemiurbanUrbanUrbanRuralSemiurbanUrbanRuralSemiurbanSemiurbanSemiurbanUrbanRuralSemiurbanRuralUrbanRuralSemiurbanRuralUrbanUrbanUrbanRuralRuralSemiurbanRuralUrbanSemiurbanRuralSemiurbanUrbanSemiurbanRuralSemiurbanRuralRuralRuralRuralUrbanRuralRuralSemiurbanSemiurbanUrbanRuralUrbanSemiurbanRuralUrbanUrbanRuralSemiurbanUrbanRuralSemiurbanRuralRuralUrbanSemiurbanRuralRuralSemiurbanRuralUrbanSemiurbanRuralSemiurbanRuralSemiurbanRuralUrbanSemiurbanRuralSemiurbanRuralSemiurbanSemiurbanRuralSemiurbanSemiurbanSemiurbanUrbanRuralSemiurbanRuralSemiurbanSemiurbanUrbanSemiurbanSemiurbanRuralSemiurbanRuralRuralSemiurbanUrbanSemiurbanSemiurbanRuralUrbanRuralUrbanUrbanSemiurbanUrbanUrbanRuralUrbanSemiurbanRuralRuralUrbanSemiurbanSemiurbanSemiurbanRuralRuralUrbanRuralRuralRuralSemiurban'\n 'NYYYYYNYYYNNNNYYNNNYNYYNYYYYYYYNYYYNNYYNYYYNNYNYYNNNYYYYYYYYYYYYYYYYYYYYYYYYYYYNYNYYYYNNYYNYNYNNNYYYNNYYNYYYYYYYYYYYYYNNYYYNYYNYYYYYYYYYYNYYNYYYYNYNNNYYYYYYYYYYYYYYYYNYYYNYYNNYYYYNYYYYYYYYYYYYNYYYYNYYYNYNNNYYYNNNNYYYNYYNYYYYYYYNYYNNNYYYYYNYYYYYNYNYNYYYYNYYYYYYYNNYNYYYYYYNYNNNYYYYYNNYYNYYYYYYNYNYNYYNYYYYYYYNYNYNYYNYNYNYYYYYYNNNNYYYNYNNYYNYYYYYYYN'] to numeric",
     "output_type": "error",
     "traceback": [
      "\u001b[0;31m---------------------------------------------------------------------------\u001b[0m",
      "\u001b[0;31mValueError\u001b[0m                                Traceback (most recent call last)",
      "File \u001b[0;32m~/anaconda3/lib/python3.11/site-packages/pandas/core/nanops.py:1680\u001b[0m, in \u001b[0;36m_ensure_numeric\u001b[0;34m(x)\u001b[0m\n\u001b[1;32m   1679\u001b[0m \u001b[38;5;28;01mtry\u001b[39;00m:\n\u001b[0;32m-> 1680\u001b[0m     x \u001b[38;5;241m=\u001b[39m x\u001b[38;5;241m.\u001b[39mastype(np\u001b[38;5;241m.\u001b[39mcomplex128)\n\u001b[1;32m   1681\u001b[0m \u001b[38;5;28;01mexcept\u001b[39;00m (\u001b[38;5;167;01mTypeError\u001b[39;00m, \u001b[38;5;167;01mValueError\u001b[39;00m):\n",
      "\u001b[0;31mValueError\u001b[0m: complex() arg is a malformed string",
      "\nDuring handling of the above exception, another exception occurred:\n",
      "\u001b[0;31mValueError\u001b[0m                                Traceback (most recent call last)",
      "File \u001b[0;32m~/anaconda3/lib/python3.11/site-packages/pandas/core/nanops.py:1683\u001b[0m, in \u001b[0;36m_ensure_numeric\u001b[0;34m(x)\u001b[0m\n\u001b[1;32m   1682\u001b[0m \u001b[38;5;28;01mtry\u001b[39;00m:\n\u001b[0;32m-> 1683\u001b[0m     x \u001b[38;5;241m=\u001b[39m x\u001b[38;5;241m.\u001b[39mastype(np\u001b[38;5;241m.\u001b[39mfloat64)\n\u001b[1;32m   1684\u001b[0m \u001b[38;5;28;01mexcept\u001b[39;00m \u001b[38;5;167;01mValueError\u001b[39;00m \u001b[38;5;28;01mas\u001b[39;00m err:\n\u001b[1;32m   1685\u001b[0m     \u001b[38;5;66;03m# GH#29941 we get here with object arrays containing strs\u001b[39;00m\n",
      "\u001b[0;31mValueError\u001b[0m: could not convert string to float: 'LP001003LP001005LP001006LP001008LP001013LP001024LP001029LP001030LP001032LP001034LP001036LP001038LP001043LP001047LP001068LP001073LP001086LP001095LP001097LP001098LP001109LP001112LP001116LP001119LP001120LP001123LP001131LP001136LP001137LP001138LP001144LP001146LP001151LP001155LP001157LP001164LP001179LP001194LP001195LP001197LP001199LP001205LP001206LP001222LP001228LP001238LP001241LP001245LP001248LP001250LP001255LP001259LP001264LP001265LP001275LP001279LP001280LP001282LP001316LP001319LP001322LP001325LP001327LP001333LP001334LP001343LP001345LP001367LP001384LP001385LP001405LP001430LP001431LP001432LP001443LP001473LP001478LP001482LP001487LP001489LP001491LP001493LP001507LP001514LP001518LP001520LP001528LP001532LP001535LP001560LP001565LP001572LP001577LP001578LP001579LP001586LP001603LP001606LP001608LP001616LP001630LP001634LP001636LP001639LP001641LP001643LP001653LP001658LP001664LP001669LP001671LP001674LP001688LP001691LP001692LP001693LP001698LP001699LP001702LP001711LP001715LP001716LP001720LP001722LP001726LP001734LP001736LP001743LP001744LP001750LP001765LP001770LP001778LP001788LP001790LP001792LP001798LP001800LP001807LP001811LP001813LP001814LP001819LP001824LP001825LP001836LP001841LP001849LP001854LP001864LP001868LP001871LP001872LP001877LP001884LP001888LP001892LP001894LP001896LP001900LP001904LP001908LP001914LP001915LP001917LP001924LP001925LP001926LP001931LP001936LP001938LP001940LP001954LP001963LP001964LP001974LP001977LP001978LP001993LP001994LP002002LP002004LP002006LP002008LP002031LP002035LP002036LP002043LP002051LP002053LP002055LP002068LP002086LP002087LP002097LP002098LP002114LP002116LP002126LP002131LP002141LP002142LP002143LP002151LP002158LP002161LP002175LP002178LP002180LP002181LP002187LP002188LP002205LP002211LP002219LP002223LP002224LP002225LP002234LP002236LP002239LP002244LP002250LP002263LP002265LP002266LP002272LP002277LP002281LP002284LP002287LP002288LP002296LP002297LP002300LP002305LP002308LP002314LP002318LP002332LP002337LP002345LP002347LP002348LP002357LP002361LP002362LP002366LP002367LP002368LP002369LP002370LP002377LP002379LP002387LP002390LP002398LP002407LP002418LP002429LP002434LP002443LP002446LP002447LP002448LP002449LP002453LP002455LP002459LP002472LP002484LP002493LP002494LP002500LP002505LP002517LP002519LP002522LP002536LP002537LP002544LP002545LP002556LP002560LP002571LP002585LP002586LP002587LP002588LP002600LP002603LP002606LP002618LP002619LP002637LP002643LP002648LP002659LP002670LP002684LP002689LP002690LP002692LP002705LP002714LP002716LP002720LP002723LP002738LP002739LP002741LP002743LP002755LP002757LP002768LP002772LP002776LP002777LP002789LP002792LP002794LP002807LP002821LP002833LP002836LP002837LP002840LP002841LP002863LP002868LP002874LP002877LP002893LP002894LP002898LP002911LP002916LP002917LP002926LP002928LP002936LP002940LP002953LP002974LP002978LP002979LP002990'",
      "\nThe above exception was the direct cause of the following exception:\n",
      "\u001b[0;31mTypeError\u001b[0m                                 Traceback (most recent call last)",
      "Cell \u001b[0;32mIn[24], line 1\u001b[0m\n\u001b[0;32m----> 1\u001b[0m data \u001b[38;5;241m=\u001b[39m df\u001b[38;5;241m.\u001b[39mfillna(df\u001b[38;5;241m.\u001b[39mmean())\n",
      "File \u001b[0;32m~/anaconda3/lib/python3.11/site-packages/pandas/core/generic.py:11556\u001b[0m, in \u001b[0;36mNDFrame._add_numeric_operations.<locals>.mean\u001b[0;34m(self, axis, skipna, numeric_only, **kwargs)\u001b[0m\n\u001b[1;32m  11539\u001b[0m \u001b[38;5;129m@doc\u001b[39m(\n\u001b[1;32m  11540\u001b[0m     _num_doc,\n\u001b[1;32m  11541\u001b[0m     desc\u001b[38;5;241m=\u001b[39m\u001b[38;5;124m\"\u001b[39m\u001b[38;5;124mReturn the mean of the values over the requested axis.\u001b[39m\u001b[38;5;124m\"\u001b[39m,\n\u001b[0;32m   (...)\u001b[0m\n\u001b[1;32m  11554\u001b[0m     \u001b[38;5;241m*\u001b[39m\u001b[38;5;241m*\u001b[39mkwargs,\n\u001b[1;32m  11555\u001b[0m ):\n\u001b[0;32m> 11556\u001b[0m     \u001b[38;5;28;01mreturn\u001b[39;00m NDFrame\u001b[38;5;241m.\u001b[39mmean(\u001b[38;5;28mself\u001b[39m, axis, skipna, numeric_only, \u001b[38;5;241m*\u001b[39m\u001b[38;5;241m*\u001b[39mkwargs)\n",
      "File \u001b[0;32m~/anaconda3/lib/python3.11/site-packages/pandas/core/generic.py:11201\u001b[0m, in \u001b[0;36mNDFrame.mean\u001b[0;34m(self, axis, skipna, numeric_only, **kwargs)\u001b[0m\n\u001b[1;32m  11194\u001b[0m \u001b[38;5;28;01mdef\u001b[39;00m \u001b[38;5;21mmean\u001b[39m(\n\u001b[1;32m  11195\u001b[0m     \u001b[38;5;28mself\u001b[39m,\n\u001b[1;32m  11196\u001b[0m     axis: Axis \u001b[38;5;241m|\u001b[39m \u001b[38;5;28;01mNone\u001b[39;00m \u001b[38;5;241m=\u001b[39m \u001b[38;5;241m0\u001b[39m,\n\u001b[0;32m   (...)\u001b[0m\n\u001b[1;32m  11199\u001b[0m     \u001b[38;5;241m*\u001b[39m\u001b[38;5;241m*\u001b[39mkwargs,\n\u001b[1;32m  11200\u001b[0m ) \u001b[38;5;241m-\u001b[39m\u001b[38;5;241m>\u001b[39m Series \u001b[38;5;241m|\u001b[39m \u001b[38;5;28mfloat\u001b[39m:\n\u001b[0;32m> 11201\u001b[0m     \u001b[38;5;28;01mreturn\u001b[39;00m \u001b[38;5;28mself\u001b[39m\u001b[38;5;241m.\u001b[39m_stat_function(\n\u001b[1;32m  11202\u001b[0m         \u001b[38;5;124m\"\u001b[39m\u001b[38;5;124mmean\u001b[39m\u001b[38;5;124m\"\u001b[39m, nanops\u001b[38;5;241m.\u001b[39mnanmean, axis, skipna, numeric_only, \u001b[38;5;241m*\u001b[39m\u001b[38;5;241m*\u001b[39mkwargs\n\u001b[1;32m  11203\u001b[0m     )\n",
      "File \u001b[0;32m~/anaconda3/lib/python3.11/site-packages/pandas/core/generic.py:11158\u001b[0m, in \u001b[0;36mNDFrame._stat_function\u001b[0;34m(self, name, func, axis, skipna, numeric_only, **kwargs)\u001b[0m\n\u001b[1;32m  11154\u001b[0m     nv\u001b[38;5;241m.\u001b[39mvalidate_stat_func((), kwargs, fname\u001b[38;5;241m=\u001b[39mname)\n\u001b[1;32m  11156\u001b[0m validate_bool_kwarg(skipna, \u001b[38;5;124m\"\u001b[39m\u001b[38;5;124mskipna\u001b[39m\u001b[38;5;124m\"\u001b[39m, none_allowed\u001b[38;5;241m=\u001b[39m\u001b[38;5;28;01mFalse\u001b[39;00m)\n\u001b[0;32m> 11158\u001b[0m \u001b[38;5;28;01mreturn\u001b[39;00m \u001b[38;5;28mself\u001b[39m\u001b[38;5;241m.\u001b[39m_reduce(\n\u001b[1;32m  11159\u001b[0m     func, name\u001b[38;5;241m=\u001b[39mname, axis\u001b[38;5;241m=\u001b[39maxis, skipna\u001b[38;5;241m=\u001b[39mskipna, numeric_only\u001b[38;5;241m=\u001b[39mnumeric_only\n\u001b[1;32m  11160\u001b[0m )\n",
      "File \u001b[0;32m~/anaconda3/lib/python3.11/site-packages/pandas/core/frame.py:10519\u001b[0m, in \u001b[0;36mDataFrame._reduce\u001b[0;34m(self, op, name, axis, skipna, numeric_only, filter_type, **kwds)\u001b[0m\n\u001b[1;32m  10515\u001b[0m     df \u001b[38;5;241m=\u001b[39m df\u001b[38;5;241m.\u001b[39mT\n\u001b[1;32m  10517\u001b[0m \u001b[38;5;66;03m# After possibly _get_data and transposing, we are now in the\u001b[39;00m\n\u001b[1;32m  10518\u001b[0m \u001b[38;5;66;03m#  simple case where we can use BlockManager.reduce\u001b[39;00m\n\u001b[0;32m> 10519\u001b[0m res \u001b[38;5;241m=\u001b[39m df\u001b[38;5;241m.\u001b[39m_mgr\u001b[38;5;241m.\u001b[39mreduce(blk_func)\n\u001b[1;32m  10520\u001b[0m out \u001b[38;5;241m=\u001b[39m df\u001b[38;5;241m.\u001b[39m_constructor(res)\u001b[38;5;241m.\u001b[39miloc[\u001b[38;5;241m0\u001b[39m]\n\u001b[1;32m  10521\u001b[0m \u001b[38;5;28;01mif\u001b[39;00m out_dtype \u001b[38;5;129;01mis\u001b[39;00m \u001b[38;5;129;01mnot\u001b[39;00m \u001b[38;5;28;01mNone\u001b[39;00m:\n",
      "File \u001b[0;32m~/anaconda3/lib/python3.11/site-packages/pandas/core/internals/managers.py:1534\u001b[0m, in \u001b[0;36mBlockManager.reduce\u001b[0;34m(self, func)\u001b[0m\n\u001b[1;32m   1532\u001b[0m res_blocks: \u001b[38;5;28mlist\u001b[39m[Block] \u001b[38;5;241m=\u001b[39m []\n\u001b[1;32m   1533\u001b[0m \u001b[38;5;28;01mfor\u001b[39;00m blk \u001b[38;5;129;01min\u001b[39;00m \u001b[38;5;28mself\u001b[39m\u001b[38;5;241m.\u001b[39mblocks:\n\u001b[0;32m-> 1534\u001b[0m     nbs \u001b[38;5;241m=\u001b[39m blk\u001b[38;5;241m.\u001b[39mreduce(func)\n\u001b[1;32m   1535\u001b[0m     res_blocks\u001b[38;5;241m.\u001b[39mextend(nbs)\n\u001b[1;32m   1537\u001b[0m index \u001b[38;5;241m=\u001b[39m Index([\u001b[38;5;28;01mNone\u001b[39;00m])  \u001b[38;5;66;03m# placeholder\u001b[39;00m\n",
      "File \u001b[0;32m~/anaconda3/lib/python3.11/site-packages/pandas/core/internals/blocks.py:339\u001b[0m, in \u001b[0;36mBlock.reduce\u001b[0;34m(self, func)\u001b[0m\n\u001b[1;32m    333\u001b[0m \u001b[38;5;129m@final\u001b[39m\n\u001b[1;32m    334\u001b[0m \u001b[38;5;28;01mdef\u001b[39;00m \u001b[38;5;21mreduce\u001b[39m(\u001b[38;5;28mself\u001b[39m, func) \u001b[38;5;241m-\u001b[39m\u001b[38;5;241m>\u001b[39m \u001b[38;5;28mlist\u001b[39m[Block]:\n\u001b[1;32m    335\u001b[0m     \u001b[38;5;66;03m# We will apply the function and reshape the result into a single-row\u001b[39;00m\n\u001b[1;32m    336\u001b[0m     \u001b[38;5;66;03m#  Block with the same mgr_locs; squeezing will be done at a higher level\u001b[39;00m\n\u001b[1;32m    337\u001b[0m     \u001b[38;5;28;01massert\u001b[39;00m \u001b[38;5;28mself\u001b[39m\u001b[38;5;241m.\u001b[39mndim \u001b[38;5;241m==\u001b[39m \u001b[38;5;241m2\u001b[39m\n\u001b[0;32m--> 339\u001b[0m     result \u001b[38;5;241m=\u001b[39m func(\u001b[38;5;28mself\u001b[39m\u001b[38;5;241m.\u001b[39mvalues)\n\u001b[1;32m    341\u001b[0m     \u001b[38;5;28;01mif\u001b[39;00m \u001b[38;5;28mself\u001b[39m\u001b[38;5;241m.\u001b[39mvalues\u001b[38;5;241m.\u001b[39mndim \u001b[38;5;241m==\u001b[39m \u001b[38;5;241m1\u001b[39m:\n\u001b[1;32m    342\u001b[0m         \u001b[38;5;66;03m# TODO(EA2D): special case not needed with 2D EAs\u001b[39;00m\n\u001b[1;32m    343\u001b[0m         res_values \u001b[38;5;241m=\u001b[39m np\u001b[38;5;241m.\u001b[39marray([[result]])\n",
      "File \u001b[0;32m~/anaconda3/lib/python3.11/site-packages/pandas/core/frame.py:10482\u001b[0m, in \u001b[0;36mDataFrame._reduce.<locals>.blk_func\u001b[0;34m(values, axis)\u001b[0m\n\u001b[1;32m  10480\u001b[0m     \u001b[38;5;28;01mreturn\u001b[39;00m values\u001b[38;5;241m.\u001b[39m_reduce(name, skipna\u001b[38;5;241m=\u001b[39mskipna, \u001b[38;5;241m*\u001b[39m\u001b[38;5;241m*\u001b[39mkwds)\n\u001b[1;32m  10481\u001b[0m \u001b[38;5;28;01melse\u001b[39;00m:\n\u001b[0;32m> 10482\u001b[0m     \u001b[38;5;28;01mreturn\u001b[39;00m op(values, axis\u001b[38;5;241m=\u001b[39maxis, skipna\u001b[38;5;241m=\u001b[39mskipna, \u001b[38;5;241m*\u001b[39m\u001b[38;5;241m*\u001b[39mkwds)\n",
      "File \u001b[0;32m~/anaconda3/lib/python3.11/site-packages/pandas/core/nanops.py:96\u001b[0m, in \u001b[0;36mdisallow.__call__.<locals>._f\u001b[0;34m(*args, **kwargs)\u001b[0m\n\u001b[1;32m     94\u001b[0m \u001b[38;5;28;01mtry\u001b[39;00m:\n\u001b[1;32m     95\u001b[0m     \u001b[38;5;28;01mwith\u001b[39;00m np\u001b[38;5;241m.\u001b[39merrstate(invalid\u001b[38;5;241m=\u001b[39m\u001b[38;5;124m\"\u001b[39m\u001b[38;5;124mignore\u001b[39m\u001b[38;5;124m\"\u001b[39m):\n\u001b[0;32m---> 96\u001b[0m         \u001b[38;5;28;01mreturn\u001b[39;00m f(\u001b[38;5;241m*\u001b[39margs, \u001b[38;5;241m*\u001b[39m\u001b[38;5;241m*\u001b[39mkwargs)\n\u001b[1;32m     97\u001b[0m \u001b[38;5;28;01mexcept\u001b[39;00m \u001b[38;5;167;01mValueError\u001b[39;00m \u001b[38;5;28;01mas\u001b[39;00m e:\n\u001b[1;32m     98\u001b[0m     \u001b[38;5;66;03m# we want to transform an object array\u001b[39;00m\n\u001b[1;32m     99\u001b[0m     \u001b[38;5;66;03m# ValueError message to the more typical TypeError\u001b[39;00m\n\u001b[1;32m    100\u001b[0m     \u001b[38;5;66;03m# e.g. this is normally a disallowed function on\u001b[39;00m\n\u001b[1;32m    101\u001b[0m     \u001b[38;5;66;03m# object arrays that contain strings\u001b[39;00m\n\u001b[1;32m    102\u001b[0m     \u001b[38;5;28;01mif\u001b[39;00m is_object_dtype(args[\u001b[38;5;241m0\u001b[39m]):\n",
      "File \u001b[0;32m~/anaconda3/lib/python3.11/site-packages/pandas/core/nanops.py:158\u001b[0m, in \u001b[0;36mbottleneck_switch.__call__.<locals>.f\u001b[0;34m(values, axis, skipna, **kwds)\u001b[0m\n\u001b[1;32m    156\u001b[0m         result \u001b[38;5;241m=\u001b[39m alt(values, axis\u001b[38;5;241m=\u001b[39maxis, skipna\u001b[38;5;241m=\u001b[39mskipna, \u001b[38;5;241m*\u001b[39m\u001b[38;5;241m*\u001b[39mkwds)\n\u001b[1;32m    157\u001b[0m \u001b[38;5;28;01melse\u001b[39;00m:\n\u001b[0;32m--> 158\u001b[0m     result \u001b[38;5;241m=\u001b[39m alt(values, axis\u001b[38;5;241m=\u001b[39maxis, skipna\u001b[38;5;241m=\u001b[39mskipna, \u001b[38;5;241m*\u001b[39m\u001b[38;5;241m*\u001b[39mkwds)\n\u001b[1;32m    160\u001b[0m \u001b[38;5;28;01mreturn\u001b[39;00m result\n",
      "File \u001b[0;32m~/anaconda3/lib/python3.11/site-packages/pandas/core/nanops.py:421\u001b[0m, in \u001b[0;36m_datetimelike_compat.<locals>.new_func\u001b[0;34m(values, axis, skipna, mask, **kwargs)\u001b[0m\n\u001b[1;32m    418\u001b[0m \u001b[38;5;28;01mif\u001b[39;00m datetimelike \u001b[38;5;129;01mand\u001b[39;00m mask \u001b[38;5;129;01mis\u001b[39;00m \u001b[38;5;28;01mNone\u001b[39;00m:\n\u001b[1;32m    419\u001b[0m     mask \u001b[38;5;241m=\u001b[39m isna(values)\n\u001b[0;32m--> 421\u001b[0m result \u001b[38;5;241m=\u001b[39m func(values, axis\u001b[38;5;241m=\u001b[39maxis, skipna\u001b[38;5;241m=\u001b[39mskipna, mask\u001b[38;5;241m=\u001b[39mmask, \u001b[38;5;241m*\u001b[39m\u001b[38;5;241m*\u001b[39mkwargs)\n\u001b[1;32m    423\u001b[0m \u001b[38;5;28;01mif\u001b[39;00m datetimelike:\n\u001b[1;32m    424\u001b[0m     result \u001b[38;5;241m=\u001b[39m _wrap_results(result, orig_values\u001b[38;5;241m.\u001b[39mdtype, fill_value\u001b[38;5;241m=\u001b[39miNaT)\n",
      "File \u001b[0;32m~/anaconda3/lib/python3.11/site-packages/pandas/core/nanops.py:727\u001b[0m, in \u001b[0;36mnanmean\u001b[0;34m(values, axis, skipna, mask)\u001b[0m\n\u001b[1;32m    724\u001b[0m     dtype_count \u001b[38;5;241m=\u001b[39m dtype\n\u001b[1;32m    726\u001b[0m count \u001b[38;5;241m=\u001b[39m _get_counts(values\u001b[38;5;241m.\u001b[39mshape, mask, axis, dtype\u001b[38;5;241m=\u001b[39mdtype_count)\n\u001b[0;32m--> 727\u001b[0m the_sum \u001b[38;5;241m=\u001b[39m _ensure_numeric(values\u001b[38;5;241m.\u001b[39msum(axis, dtype\u001b[38;5;241m=\u001b[39mdtype_sum))\n\u001b[1;32m    729\u001b[0m \u001b[38;5;28;01mif\u001b[39;00m axis \u001b[38;5;129;01mis\u001b[39;00m \u001b[38;5;129;01mnot\u001b[39;00m \u001b[38;5;28;01mNone\u001b[39;00m \u001b[38;5;129;01mand\u001b[39;00m \u001b[38;5;28mgetattr\u001b[39m(the_sum, \u001b[38;5;124m\"\u001b[39m\u001b[38;5;124mndim\u001b[39m\u001b[38;5;124m\"\u001b[39m, \u001b[38;5;28;01mFalse\u001b[39;00m):\n\u001b[1;32m    730\u001b[0m     count \u001b[38;5;241m=\u001b[39m cast(np\u001b[38;5;241m.\u001b[39mndarray, count)\n",
      "File \u001b[0;32m~/anaconda3/lib/python3.11/site-packages/pandas/core/nanops.py:1686\u001b[0m, in \u001b[0;36m_ensure_numeric\u001b[0;34m(x)\u001b[0m\n\u001b[1;32m   1683\u001b[0m         x \u001b[38;5;241m=\u001b[39m x\u001b[38;5;241m.\u001b[39mastype(np\u001b[38;5;241m.\u001b[39mfloat64)\n\u001b[1;32m   1684\u001b[0m     \u001b[38;5;28;01mexcept\u001b[39;00m \u001b[38;5;167;01mValueError\u001b[39;00m \u001b[38;5;28;01mas\u001b[39;00m err:\n\u001b[1;32m   1685\u001b[0m         \u001b[38;5;66;03m# GH#29941 we get here with object arrays containing strs\u001b[39;00m\n\u001b[0;32m-> 1686\u001b[0m         \u001b[38;5;28;01mraise\u001b[39;00m \u001b[38;5;167;01mTypeError\u001b[39;00m(\u001b[38;5;124mf\u001b[39m\u001b[38;5;124m\"\u001b[39m\u001b[38;5;124mCould not convert \u001b[39m\u001b[38;5;132;01m{\u001b[39;00mx\u001b[38;5;132;01m}\u001b[39;00m\u001b[38;5;124m to numeric\u001b[39m\u001b[38;5;124m\"\u001b[39m) \u001b[38;5;28;01mfrom\u001b[39;00m \u001b[38;5;21;01merr\u001b[39;00m\n\u001b[1;32m   1687\u001b[0m \u001b[38;5;28;01melse\u001b[39;00m:\n\u001b[1;32m   1688\u001b[0m     \u001b[38;5;28;01mif\u001b[39;00m \u001b[38;5;129;01mnot\u001b[39;00m np\u001b[38;5;241m.\u001b[39many(np\u001b[38;5;241m.\u001b[39mimag(x)):\n",
      "\u001b[0;31mTypeError\u001b[0m: Could not convert ['LP001003LP001005LP001006LP001008LP001013LP001024LP001029LP001030LP001032LP001034LP001036LP001038LP001043LP001047LP001068LP001073LP001086LP001095LP001097LP001098LP001109LP001112LP001116LP001119LP001120LP001123LP001131LP001136LP001137LP001138LP001144LP001146LP001151LP001155LP001157LP001164LP001179LP001194LP001195LP001197LP001199LP001205LP001206LP001222LP001228LP001238LP001241LP001245LP001248LP001250LP001255LP001259LP001264LP001265LP001275LP001279LP001280LP001282LP001316LP001319LP001322LP001325LP001327LP001333LP001334LP001343LP001345LP001367LP001384LP001385LP001405LP001430LP001431LP001432LP001443LP001473LP001478LP001482LP001487LP001489LP001491LP001493LP001507LP001514LP001518LP001520LP001528LP001532LP001535LP001560LP001565LP001572LP001577LP001578LP001579LP001586LP001603LP001606LP001608LP001616LP001630LP001634LP001636LP001639LP001641LP001643LP001653LP001658LP001664LP001669LP001671LP001674LP001688LP001691LP001692LP001693LP001698LP001699LP001702LP001711LP001715LP001716LP001720LP001722LP001726LP001734LP001736LP001743LP001744LP001750LP001765LP001770LP001778LP001788LP001790LP001792LP001798LP001800LP001807LP001811LP001813LP001814LP001819LP001824LP001825LP001836LP001841LP001849LP001854LP001864LP001868LP001871LP001872LP001877LP001884LP001888LP001892LP001894LP001896LP001900LP001904LP001908LP001914LP001915LP001917LP001924LP001925LP001926LP001931LP001936LP001938LP001940LP001954LP001963LP001964LP001974LP001977LP001978LP001993LP001994LP002002LP002004LP002006LP002008LP002031LP002035LP002036LP002043LP002051LP002053LP002055LP002068LP002086LP002087LP002097LP002098LP002114LP002116LP002126LP002131LP002141LP002142LP002143LP002151LP002158LP002161LP002175LP002178LP002180LP002181LP002187LP002188LP002205LP002211LP002219LP002223LP002224LP002225LP002234LP002236LP002239LP002244LP002250LP002263LP002265LP002266LP002272LP002277LP002281LP002284LP002287LP002288LP002296LP002297LP002300LP002305LP002308LP002314LP002318LP002332LP002337LP002345LP002347LP002348LP002357LP002361LP002362LP002366LP002367LP002368LP002369LP002370LP002377LP002379LP002387LP002390LP002398LP002407LP002418LP002429LP002434LP002443LP002446LP002447LP002448LP002449LP002453LP002455LP002459LP002472LP002484LP002493LP002494LP002500LP002505LP002517LP002519LP002522LP002536LP002537LP002544LP002545LP002556LP002560LP002571LP002585LP002586LP002587LP002588LP002600LP002603LP002606LP002618LP002619LP002637LP002643LP002648LP002659LP002670LP002684LP002689LP002690LP002692LP002705LP002714LP002716LP002720LP002723LP002738LP002739LP002741LP002743LP002755LP002757LP002768LP002772LP002776LP002777LP002789LP002792LP002794LP002807LP002821LP002833LP002836LP002837LP002840LP002841LP002863LP002868LP002874LP002877LP002893LP002894LP002898LP002911LP002916LP002917LP002926LP002928LP002936LP002940LP002953LP002974LP002978LP002979LP002990'\n 'MaleMaleMaleMaleMaleMaleMaleMaleMaleMaleFemaleMaleMaleMaleMaleMaleMaleMaleMaleMaleMaleFemaleMaleMaleMaleMaleMaleMaleFemaleMaleMaleFemaleFemaleFemaleFemaleFemaleMaleMaleMaleMaleMaleMaleMaleFemaleMaleMaleFemaleMaleMaleMaleMaleMaleMaleFemaleMaleMaleMaleMaleMaleMaleMaleMaleFemaleMaleMaleMaleMaleMaleMaleMaleMaleFemaleFemaleMaleFemaleMaleMaleMaleMaleFemaleMaleMaleMaleFemaleMaleMaleMaleMaleMaleMaleMaleMaleFemaleMaleMaleMaleMaleMaleMaleMaleMaleMaleMaleFemaleMaleMaleMaleMaleMaleFemaleFemaleMaleMaleMaleFemaleFemaleMaleMaleMaleMaleMaleMaleMaleMaleMaleFemaleMaleMaleMaleMaleMaleMaleMaleFemaleFemaleMaleMaleMaleMaleMaleMaleMaleMaleMaleMaleFemaleMaleMaleMaleMaleMaleFemaleMaleMaleFemaleFemaleMaleMaleMaleMaleMaleFemaleMaleMaleFemaleMaleFemaleMaleFemaleMaleMaleMaleFemaleMaleMaleFemaleMaleMaleFemaleFemaleFemaleMaleFemaleMaleMaleMaleMaleFemaleMaleMaleFemaleMaleFemaleFemaleMaleMaleFemaleFemaleMaleMaleMaleFemaleFemaleMaleMaleFemaleMaleMaleMaleMaleMaleMaleMaleMaleMaleMaleMaleMaleMaleMaleMaleMaleMaleMaleMaleMaleMaleFemaleMaleMaleFemaleMaleMaleMaleFemaleFemaleMaleFemaleFemaleMaleFemaleMaleMaleMaleFemaleMaleMaleMaleFemaleMaleMaleMaleFemaleMaleMaleMaleMaleFemaleMaleMaleMaleMaleMaleMaleMaleMaleMaleMaleMaleMaleMaleMaleMaleMaleMaleMaleMaleFemaleMaleMaleMaleMaleMaleMaleMaleMaleFemaleMaleMaleMaleFemaleFemaleMaleMaleMaleMaleMaleMaleFemaleFemaleMaleMaleMaleMaleMaleMaleMaleMaleMaleMaleFemaleFemaleMaleFemaleMaleMaleFemaleMaleMaleMaleFemaleMaleMaleMaleMaleMaleFemaleMaleMaleMaleMaleMaleMaleFemaleMaleMaleMaleFemaleMaleMaleMaleMaleMaleMaleFemaleMaleFemale'\n 'YesYesYesNoYesYesNoYesNoNoNoYesYesYesYesYesNoNoNoYesYesYesNoNoNoYesYesYesNoYesYesYesNoYesNoNoYesYesYesYesYesYesYesNoNoYesNoYesNoYesNoYesYesNoYesNoYesYesYesYesNoNoYesYesYesYesYesYesYesNoYesNoNoYesNoNoNoYesNoYesYesYesYesYesYesYesNoYesNoYesYesYesYesYesNoYesYesYesYesYesNoNoYesYesYesYesNoNoNoNoYesYesYesYesNoNoNoNoNoYesYesYesYesYesYesYesYesYesNoYesYesNoYesNoNoYesYesYesYesYesNoYesYesYesYesNoNoNoYesYesNoNoNoYesNoNoNoYesYesYesYesYesYesYesNoNoNoYesNoYesYesYesYesYesYesNoYesNoNoNoNoNoNoYesYesYesYesNoYesYesNoNoYesNoNoNoNoNoYesYesYesYesYesYesYesNoYesYesNoNoNoNoNoYesYesYesNoYesNoYesNoYesYesYesYesYesYesNoYesNoNoYesNoNoNoNoYesNoNoYesNoYesYesYesNoYesYesYesNoYesYesNoNoNoYesNoNoYesNoYesYesYesYesYesYesYesNoYesYesNoYesNoNoYesYesYesYesNoYesYesYesNoNoNoNoYesYesYesYesYesNoNoYesYesNoYesYesYesYesNoYesNoYesYesNoNoYesNoNoYesYesNoYesYesNoNoNoYesYesYesNoYesNoYesNoYesNoYesYesYesNoYesNoYesYesYesYesNoYesYesYesNoYesYesNoYesNo'\n '1000020201000002001000000000010000002200203+003+0203+013+0102002000000213+010020000002200100200100003+002100001000000112000003+3+03+00202001010112120021102003+3+0002100021000200000022110010000002120103+000010003+23+00101000000103+00202000022200002000000100000001012001000003+122220002023+003+013+03+0120000100100100203+20203+0103+2201010000001020003+003+20100110020003+003+0'\n 'GraduateGraduateNot GraduateGraduateNot GraduateGraduateGraduateGraduateGraduateNot GraduateGraduateNot GraduateNot GraduateNot GraduateGraduateNot GraduateNot GraduateGraduateGraduateGraduateGraduateGraduateNot GraduateGraduateGraduateGraduateGraduateNot GraduateGraduateGraduateGraduateGraduateGraduateNot GraduateGraduateGraduateGraduateGraduateGraduateGraduateNot GraduateGraduateGraduateGraduateNot GraduateNot GraduateGraduateNot GraduateGraduateNot GraduateGraduateGraduateNot GraduateGraduateGraduateGraduateNot GraduateGraduateGraduateNot GraduateGraduateNot GraduateGraduateGraduateNot GraduateGraduateNot GraduateGraduateNot GraduateGraduateGraduateGraduateGraduateGraduateGraduateGraduateGraduateGraduateGraduateGraduateGraduateNot GraduateGraduateGraduateGraduateGraduateGraduateNot GraduateGraduateNot GraduateGraduateGraduateGraduateGraduateGraduateNot GraduateNot GraduateGraduateGraduateGraduateNot GraduateGraduateGraduateGraduateGraduateGraduateNot GraduateGraduateGraduateNot GraduateGraduateNot GraduateNot GraduateNot GraduateNot GraduateGraduateNot GraduateGraduateGraduateGraduateNot GraduateGraduateNot GraduateGraduateGraduateGraduateGraduateGraduateGraduateGraduateGraduateNot GraduateGraduateGraduateGraduateGraduateGraduateNot GraduateGraduateNot GraduateGraduateGraduateNot GraduateGraduateGraduateGraduateNot GraduateNot GraduateGraduateNot GraduateGraduateGraduateGraduateGraduateGraduateGraduateGraduateGraduateGraduateGraduateGraduateNot GraduateGraduateGraduateGraduateGraduateGraduateGraduateGraduateGraduateGraduateGraduateGraduateGraduateNot GraduateGraduateGraduateGraduateGraduateGraduateGraduateNot GraduateGraduateGraduateNot GraduateGraduateGraduateGraduateGraduateGraduateGraduateGraduateGraduateGraduateGraduateGraduateGraduateGraduateNot GraduateNot GraduateGraduateGraduateGraduateGraduateNot GraduateGraduateGraduateGraduateGraduateNot GraduateGraduateGraduateGraduateGraduateGraduateGraduateGraduateGraduateGraduateGraduateNot GraduateGraduateGraduateGraduateNot GraduateGraduateGraduateGraduateGraduateNot GraduateGraduateNot GraduateNot GraduateGraduateNot GraduateGraduateNot GraduateNot GraduateNot GraduateNot GraduateGraduateGraduateGraduateGraduateNot GraduateGraduateGraduateGraduateNot GraduateGraduateGraduateNot GraduateGraduateGraduateGraduateGraduateGraduateNot GraduateNot GraduateGraduateNot GraduateGraduateNot GraduateNot GraduateGraduateGraduateGraduateGraduateGraduateGraduateGraduateGraduateGraduateNot GraduateGraduateNot GraduateGraduateGraduateNot GraduateGraduateNot GraduateGraduateGraduateNot GraduateNot GraduateGraduateGraduateNot GraduateGraduateGraduateGraduateGraduateNot GraduateNot GraduateNot GraduateGraduateGraduateGraduateGraduateNot GraduateNot GraduateGraduateGraduateGraduateNot GraduateNot GraduateGraduateGraduateGraduateNot GraduateGraduateGraduateNot GraduateNot GraduateNot GraduateGraduateGraduateGraduateGraduateGraduateGraduateNot GraduateNot GraduateNot GraduateGraduateGraduateGraduateGraduateGraduateGraduateGraduateGraduateGraduateGraduateGraduateGraduateGraduateNot GraduateGraduateGraduateGraduateNot GraduateGraduateGraduateGraduateGraduateGraduate'\n 'NoYesNoNoNoNoNoNoNoNoNoNoNoNoNoNoNoNoYesNoNoNoNoNoNoNoNoYesNoNoNoNoNoNoNoNoNoNoNoNoNoNoNoNoNoYesNoYesNoNoNoYesYesNoNoNoNoNoNoNoNoNoNoNoNoNoNoNoNoNoNoNoNoNoNoNoNoYesNoNoYesNoNoNoNoNoNoNoNoNoNoNoNoNoNoNoYesNoNoNoNoNoNoNoYesNoNoNoNoNoNoNoNoNoNoNoNoNoNoNoYesNoNoNoNoNoNoNoNoNoNoNoNoYesNoNoNoNoYesNoYesNoNoNoNoNoYesNoNoNoNoNoYesNoNoNoNoNoNoNoNoNoNoNoNoNoYesNoNoNoNoNoNoNoNoNoNoNoNoNoNoNoNoYesNoNoNoNoNoNoNoNoNoNoNoNoNoNoNoNoNoYesNoNoNoNoNoNoYesNoNoNoNoNoNoNoNoNoYesNoNoNoNoNoNoNoNoNoNoNoNoNoNoNoNoNoNoNoYesNoNoNoNoNoNoNoNoNoNoNoNoNoYesNoNoNoNoYesNoYesNoNoNoNoNoNoYesNoNoNoNoNoNoNoNoNoNoYesNoNoNoNoNoNoNoNoNoNoNoYesNoNoNoNoNoNoNoNoNoNoNoNoYesNoNoNoNoNoNoNoNoNoNoNoNoNoNoNoNoNoNoNoYesNoNoNoNoNoNoNoNoNoNoNoNoNoNoNoYesNoNoNoNoNoNoNoYes'\n 'RuralUrbanUrbanUrbanUrbanUrbanRuralUrbanUrbanUrbanUrbanRuralUrbanSemiurbanSemiurbanUrbanUrbanUrbanRuralSemiurbanUrbanSemiurbanSemiurbanUrbanUrbanUrbanSemiurbanUrbanUrbanUrbanUrbanUrbanSemiurbanSemiurbanSemiurbanSemiurbanUrbanSemiurbanSemiurbanRuralUrbanUrbanUrbanSemiurbanUrbanUrbanSemiurbanSemiurbanSemiurbanSemiurbanUrbanUrbanSemiurbanSemiurbanUrbanSemiurbanSemiurbanSemiurbanSemiurbanUrbanSemiurbanSemiurbanSemiurbanSemiurbanSemiurbanSemiurbanUrbanUrbanSemiurbanUrbanUrbanSemiurbanSemiurbanSemiurbanRuralUrbanSemiurbanSemiurbanSemiurbanRuralUrbanRuralSemiurbanSemiurbanUrbanSemiurbanRuralRuralUrbanSemiurbanSemiurbanUrbanRuralRuralSemiurbanRuralSemiurbanRuralRuralSemiurbanUrbanRuralSemiurbanSemiurbanRuralRuralRuralSemiurbanRuralUrbanSemiurbanSemiurbanUrbanSemiurbanSemiurbanUrbanRuralUrbanSemiurbanSemiurbanRuralUrbanSemiurbanRuralSemiurbanSemiurbanUrbanSemiurbanSemiurbanSemiurbanSemiurbanRuralSemiurbanUrbanRuralSemiurbanRuralUrbanRuralSemiurbanUrbanUrbanUrbanSemiurbanUrbanUrbanRuralRuralUrbanSemiurbanSemiurbanRuralSemiurbanSemiurbanUrbanUrbanRuralSemiurbanSemiurbanSemiurbanUrbanRuralSemiurbanUrbanUrbanRuralSemiurbanRuralSemiurbanRuralSemiurbanUrbanUrbanUrbanUrbanRuralUrbanRuralRuralUrbanSemiurbanSemiurbanRuralRuralUrbanSemiurbanUrbanSemiurbanSemiurbanSemiurbanRuralRuralUrbanUrbanUrbanSemiurbanSemiurbanRuralSemiurbanUrbanRuralRuralSemiurbanUrbanUrbanSemiurbanUrbanUrbanRuralRuralSemiurbanRuralUrbanUrbanRuralSemiurbanUrbanUrbanUrbanUrbanSemiurbanUrbanRuralUrbanSemiurbanUrbanSemiurbanUrbanUrbanRuralSemiurbanUrbanRuralSemiurbanSemiurbanSemiurbanUrbanRuralSemiurbanRuralUrbanRuralSemiurbanRuralUrbanUrbanUrbanRuralRuralSemiurbanRuralUrbanSemiurbanRuralSemiurbanUrbanSemiurbanRuralSemiurbanRuralRuralRuralRuralUrbanRuralRuralSemiurbanSemiurbanUrbanRuralUrbanSemiurbanRuralUrbanUrbanRuralSemiurbanUrbanRuralSemiurbanRuralRuralUrbanSemiurbanRuralRuralSemiurbanRuralUrbanSemiurbanRuralSemiurbanRuralSemiurbanRuralUrbanSemiurbanRuralSemiurbanRuralSemiurbanSemiurbanRuralSemiurbanSemiurbanSemiurbanUrbanRuralSemiurbanRuralSemiurbanSemiurbanUrbanSemiurbanSemiurbanRuralSemiurbanRuralRuralSemiurbanUrbanSemiurbanSemiurbanRuralUrbanRuralUrbanUrbanSemiurbanUrbanUrbanRuralUrbanSemiurbanRuralRuralUrbanSemiurbanSemiurbanSemiurbanRuralRuralUrbanRuralRuralRuralSemiurban'\n 'NYYYYYNYYYNNNNYYNNNYNYYNYYYYYYYNYYYNNYYNYYYNNYNYYNNNYYYYYYYYYYYYYYYYYYYYYYYYYYYNYNYYYYNNYYNYNYNNNYYYNNYYNYYYYYYYYYYYYYNNYYYNYYNYYYYYYYYYYNYYNYYYYNYNNNYYYYYYYYYYYYYYYYNYYYNYYNNYYYYNYYYYYYYYYYYYNYYYYNYYYNYNNNYYYNNNNYYYNYYNYYYYYYYNYYNNNYYYYYNYYYYYNYNYNYYYYNYYYYYYYNNYNYYYYYYNYNNNYYYYYNNYYNYYYYYYNYNYNYYNYYYYYYYNYNYNYYNYNYNYYYYYYNNNNYYYNYNNYYNYYYYYYYN'] to numeric"
     ]
    }
   ],
   "source": [
    "data = df.fillna(df.mean())"
   ]
  },
  {
   "cell_type": "code",
   "execution_count": 25,
   "metadata": {},
   "outputs": [],
   "source": [
    "\n",
    "df.dropna(subset=['Gender','Self_Employed','Dependents'], inplace=True)"
   ]
  },
  {
   "cell_type": "code",
   "execution_count": 26,
   "metadata": {},
   "outputs": [
    {
     "ename": "NameError",
     "evalue": "name 'data' is not defined",
     "output_type": "error",
     "traceback": [
      "\u001b[0;31m---------------------------------------------------------------------------\u001b[0m",
      "\u001b[0;31mNameError\u001b[0m                                 Traceback (most recent call last)",
      "Cell \u001b[0;32mIn[26], line 1\u001b[0m\n\u001b[0;32m----> 1\u001b[0m data\u001b[38;5;241m.\u001b[39misnull()\u001b[38;5;241m.\u001b[39msum()\n",
      "\u001b[0;31mNameError\u001b[0m: name 'data' is not defined"
     ]
    }
   ],
   "source": [
    "data.isnull().sum()"
   ]
  },
  {
   "cell_type": "markdown",
   "metadata": {},
   "source": [
    "# Question 2\n",
    "- What is the distribution of the target (`Loan_Status`)?  \n",
    "- Do you have any concerns on class imbalances?"
   ]
  },
  {
   "cell_type": "code",
   "execution_count": 10,
   "metadata": {},
   "outputs": [
    {
     "data": {
      "text/plain": [
       "Loan_Status\n",
       "Y    249\n",
       "N     98\n",
       "Name: count, dtype: int64"
      ]
     },
     "execution_count": 10,
     "metadata": {},
     "output_type": "execute_result"
    }
   ],
   "source": [
    "df['Loan_Status'].value_counts()"
   ]
  },
  {
   "cell_type": "markdown",
   "metadata": {},
   "source": [
    "Insert comments here"
   ]
  },
  {
   "cell_type": "markdown",
   "metadata": {},
   "source": [
    "here there are 381 instances out of which 271 says yes and 110 says No, which clearly shows imbalanced outcome in loan status,which may result in biased model  .where model may favor to yes class and also may effect accuracy\n"
   ]
  },
  {
   "cell_type": "markdown",
   "metadata": {},
   "source": [
    "# Question 3\n",
    "- Create and print a list of the variables that you would treat as numerical and another list for the variables that you would treat as categorical.  \n",
    "- Explain your choices."
   ]
  },
  {
   "cell_type": "code",
   "execution_count": 11,
   "metadata": {},
   "outputs": [],
   "source": [
    "numerical_vars = ['ApplicantIncome','CoapplicantIncome','LoanAmount','Loan_Amount_Term','Credit_History']\n",
    "categorical_vars = ['Loan_ID','Gender','Married','Dependents','Education','Self_Employed','Property_Area','Loan_Status']"
   ]
  },
  {
   "cell_type": "markdown",
   "metadata": {},
   "source": [
    "Insert comments here"
   ]
  },
  {
   "cell_type": "markdown",
   "metadata": {},
   "source": [
    "since numerical variables are numeric values , seperation is based on their datatypes\n",
    "but it may change depending on the dataset"
   ]
  },
  {
   "cell_type": "markdown",
   "metadata": {},
   "source": [
    "# Question 4\n",
    "- Split the data into training and test sets.  \n",
    "- Use 20% of the data for test and a random state of 120.  "
   ]
  },
  {
   "cell_type": "code",
   "execution_count": 12,
   "metadata": {},
   "outputs": [],
   "source": [
    "X = df[numerical_vars + categorical_vars]\n",
    "y = df['Loan_Status']"
   ]
  },
  {
   "cell_type": "code",
   "execution_count": 13,
   "metadata": {},
   "outputs": [
    {
     "ename": "NameError",
     "evalue": "name 'x' is not defined",
     "output_type": "error",
     "traceback": [
      "\u001b[0;31m---------------------------------------------------------------------------\u001b[0m",
      "\u001b[0;31mNameError\u001b[0m                                 Traceback (most recent call last)",
      "Cell \u001b[0;32mIn[13], line 3\u001b[0m\n\u001b[1;32m      1\u001b[0m \u001b[38;5;66;03m# insert code here\u001b[39;00m\n\u001b[1;32m      2\u001b[0m \u001b[38;5;28;01mfrom\u001b[39;00m \u001b[38;5;21;01msklearn\u001b[39;00m\u001b[38;5;21;01m.\u001b[39;00m\u001b[38;5;21;01mmodel_selection\u001b[39;00m \u001b[38;5;28;01mimport\u001b[39;00m train_test_split\n\u001b[0;32m----> 3\u001b[0m x_train,x_test,y_train,y_test\u001b[38;5;241m=\u001b[39mtrain_test_split(x,y,test_size\u001b[38;5;241m=\u001b[39m\u001b[38;5;241m0.2\u001b[39m,random_state\u001b[38;5;241m=\u001b[39m\u001b[38;5;241m120\u001b[39m)\n",
      "\u001b[0;31mNameError\u001b[0m: name 'x' is not defined"
     ]
    }
   ],
   "source": [
    "# insert code here\n",
    "from sklearn.model_selection import train_test_split\n",
    "x_train,x_test,y_train,y_test=train_test_split(x,y,test_size=0.2,random_state=120)"
   ]
  },
  {
   "cell_type": "code",
   "execution_count": 27,
   "metadata": {},
   "outputs": [],
   "source": [
    "categorical_vars = ['Loan_ID','Gender','Married','Dependents','Education','Self_Employed','Property_Area']"
   ]
  },
  {
   "cell_type": "markdown",
   "metadata": {},
   "source": [
    "# Question 5\n",
    "- Create a pipeline to process the numerical data.  \n",
    "- Create a pipeline to process the categorical data.  \n",
    "\n",
    "Verify each pipeline contains the columns you would expect using a fit_transform on the training data, i.e., print the shapes of the fit_transforms for each pipeline."
   ]
  },
  {
   "cell_type": "code",
   "execution_count": 28,
   "metadata": {},
   "outputs": [],
   "source": [
    "# insert code here\n",
    "from sklearn.pipeline import Pipeline\n",
    "from sklearn.impute import SimpleImputer\n",
    "from sklearn.preprocessing import StandardScaler, OneHotEncoder  \n",
    "\n",
    "\n",
    "numerical_pipeline = Pipeline([\n",
    "    ('imputer', SimpleImputer(strategy='mean')),\n",
    "    ('standardize_num', StandardScaler())\n",
    "])\n",
    "\n",
    "\n"
   ]
  },
  {
   "cell_type": "code",
   "execution_count": 29,
   "metadata": {},
   "outputs": [],
   "source": [
    "\n",
    "categorical_pipeline = Pipeline([\n",
    "    ('imputer', SimpleImputer(strategy='most_frequent')),\n",
    "    ('encoder', OneHotEncoder(drop='first', handle_unknown='ignore'))\n",
    "])"
   ]
  },
  {
   "cell_type": "code",
   "execution_count": 30,
   "metadata": {
    "scrolled": true
   },
   "outputs": [
    {
     "ename": "NameError",
     "evalue": "name 'x_train' is not defined",
     "output_type": "error",
     "traceback": [
      "\u001b[0;31m---------------------------------------------------------------------------\u001b[0m",
      "\u001b[0;31mNameError\u001b[0m                                 Traceback (most recent call last)",
      "Cell \u001b[0;32mIn[30], line 1\u001b[0m\n\u001b[0;32m----> 1\u001b[0m numerical_data \u001b[38;5;241m=\u001b[39m numerical_pipeline\u001b[38;5;241m.\u001b[39mfit_transform(x_train[numerical_vars])\n\u001b[1;32m      2\u001b[0m numerical_data \u001b[38;5;241m.\u001b[39mshape\n",
      "\u001b[0;31mNameError\u001b[0m: name 'x_train' is not defined"
     ]
    }
   ],
   "source": [
    "numerical_data = numerical_pipeline.fit_transform(x_train[numerical_vars])\n",
    "numerical_data .shape"
   ]
  },
  {
   "cell_type": "code",
   "execution_count": 31,
   "metadata": {},
   "outputs": [],
   "source": [
    "categorical_vars = ['Loan_ID','Gender','Married','Dependents','Education','Self_Employed','Property_Area']"
   ]
  },
  {
   "cell_type": "code",
   "execution_count": 32,
   "metadata": {},
   "outputs": [
    {
     "ename": "NameError",
     "evalue": "name 'x_train' is not defined",
     "output_type": "error",
     "traceback": [
      "\u001b[0;31m---------------------------------------------------------------------------\u001b[0m",
      "\u001b[0;31mNameError\u001b[0m                                 Traceback (most recent call last)",
      "Cell \u001b[0;32mIn[32], line 1\u001b[0m\n\u001b[0;32m----> 1\u001b[0m categorical_data \u001b[38;5;241m=\u001b[39m categorical_pipeline\u001b[38;5;241m.\u001b[39mfit_transform(x_train[categorical_vars])\n\u001b[1;32m      2\u001b[0m \u001b[38;5;28mprint\u001b[39m(\u001b[38;5;124m'\u001b[39m\u001b[38;5;124mCategorical data shape:\u001b[39m\u001b[38;5;124m'\u001b[39m,categorical_data\u001b[38;5;241m.\u001b[39mshape)\n",
      "\u001b[0;31mNameError\u001b[0m: name 'x_train' is not defined"
     ]
    }
   ],
   "source": [
    "categorical_data = categorical_pipeline.fit_transform(x_train[categorical_vars])\n",
    "print('Categorical data shape:',categorical_data.shape)"
   ]
  },
  {
   "cell_type": "markdown",
   "metadata": {},
   "source": [
    "# Question 6\n",
    "- Create a pipeline that combines the pre-processing and implements a logistic regression model.  \n",
    "- Print the accuracy on the training set and the test set.\n",
    "- Do you have any concerns of overfitting based on the differences between the two accuracy scores?"
   ]
  },
  {
   "cell_type": "code",
   "execution_count": 19,
   "metadata": {},
   "outputs": [],
   "source": [
    "# insert code here\n",
    "from sklearn.linear_model import LogisticRegression\n",
    "from sklearn.compose import ColumnTransformer\n",
    "\n",
    "# Combine numerical and categorical pipelines\n",
    "preprocessor = ColumnTransformer([\n",
    "    ('num', numerical_pipeline, numerical_vars),\n",
    "    ('cat', categorical_pipeline, categorical_vars)\n",
    "])"
   ]
  },
  {
   "cell_type": "code",
   "execution_count": 20,
   "metadata": {},
   "outputs": [],
   "source": [
    "\n",
    "lr_pipeline = Pipeline([\n",
    "    ('preprocessor', preprocessor),\n",
    "    ('logreg', LogisticRegression())\n",
    "])"
   ]
  },
  {
   "cell_type": "code",
   "execution_count": 21,
   "metadata": {},
   "outputs": [
    {
     "ename": "NameError",
     "evalue": "name 'x_train' is not defined",
     "output_type": "error",
     "traceback": [
      "\u001b[0;31m---------------------------------------------------------------------------\u001b[0m",
      "\u001b[0;31mNameError\u001b[0m                                 Traceback (most recent call last)",
      "Cell \u001b[0;32mIn[21], line 1\u001b[0m\n\u001b[0;32m----> 1\u001b[0m lr_pipeline\u001b[38;5;241m.\u001b[39mfit(x_train, y_train)\n",
      "\u001b[0;31mNameError\u001b[0m: name 'x_train' is not defined"
     ]
    }
   ],
   "source": [
    "lr_pipeline.fit(x_train, y_train)"
   ]
  },
  {
   "cell_type": "code",
   "execution_count": 22,
   "metadata": {},
   "outputs": [
    {
     "ename": "NameError",
     "evalue": "name 'x_train' is not defined",
     "output_type": "error",
     "traceback": [
      "\u001b[0;31m---------------------------------------------------------------------------\u001b[0m",
      "\u001b[0;31mNameError\u001b[0m                                 Traceback (most recent call last)",
      "Cell \u001b[0;32mIn[22], line 1\u001b[0m\n\u001b[0;32m----> 1\u001b[0m train_acc \u001b[38;5;241m=\u001b[39m lr_pipeline\u001b[38;5;241m.\u001b[39mscore(x_train, y_train)\n\u001b[1;32m      2\u001b[0m test_acc \u001b[38;5;241m=\u001b[39m lr_pipeline\u001b[38;5;241m.\u001b[39mscore(x_test, y_test)\n\u001b[1;32m      3\u001b[0m \u001b[38;5;28mprint\u001b[39m(\u001b[38;5;124m'\u001b[39m\u001b[38;5;124mTraining accuracy:\u001b[39m\u001b[38;5;124m'\u001b[39m, train_acc)\n",
      "\u001b[0;31mNameError\u001b[0m: name 'x_train' is not defined"
     ]
    }
   ],
   "source": [
    "train_acc = lr_pipeline.score(x_train, y_train)\n",
    "test_acc = lr_pipeline.score(x_test, y_test)\n",
    "print('Training accuracy:', train_acc)\n",
    "print('Test accuracy:', test_acc)"
   ]
  },
  {
   "cell_type": "markdown",
   "metadata": {},
   "source": [
    "Insert comments here"
   ]
  },
  {
   "cell_type": "markdown",
   "metadata": {},
   "source": [
    "Yes, there is a notable difference between the training accuracy  and the test accuracy . Such a difference may indicate potential overfitting.\n",
    "Overfitting occurs when a model learns the training data too well\n",
    "\n"
   ]
  },
  {
   "cell_type": "markdown",
   "metadata": {},
   "source": [
    "# Question 7\n",
    "What would you recommend as potential next steps for continuing to develop and evaluate a model?"
   ]
  },
  {
   "cell_type": "markdown",
   "metadata": {},
   "source": [
    "Insert comments here"
   ]
  },
  {
   "cell_type": "markdown",
   "metadata": {},
   "source": [
    "since we could see overfitting of data ,we should simplify the model and cross validate and Fine-tune the model settings, check its performance on different data slices, and understand which factors matter most. Combine different models for better predictions, and use various measures to make sure the model works well and keeps getting better"
   ]
  },
  {
   "cell_type": "code",
   "execution_count": null,
   "metadata": {},
   "outputs": [],
   "source": []
  }
 ],
 "metadata": {
  "kernelspec": {
   "display_name": "Python 3 (ipykernel)",
   "language": "python",
   "name": "python3"
  },
  "language_info": {
   "codemirror_mode": {
    "name": "ipython",
    "version": 3
   },
   "file_extension": ".py",
   "mimetype": "text/x-python",
   "name": "python",
   "nbconvert_exporter": "python",
   "pygments_lexer": "ipython3",
   "version": "3.11.5"
  },
  "toc": {
   "base_numbering": 1,
   "nav_menu": {},
   "number_sections": true,
   "sideBar": true,
   "skip_h1_title": false,
   "title_cell": "Table of Contents",
   "title_sidebar": "Contents",
   "toc_cell": false,
   "toc_position": {},
   "toc_section_display": true,
   "toc_window_display": false
  }
 },
 "nbformat": 4,
 "nbformat_minor": 4
}
